{
 "cells": [
  {
   "cell_type": "markdown",
   "id": "0bf9b8d2-b9fa-41d3-a755-1783fb823734",
   "metadata": {},
   "source": [
    "# Введение и сложность"
   ]
  },
  {
   "cell_type": "markdown",
   "id": "960e8e14-afd7-462e-8cb3-65f02c6d24e7",
   "metadata": {},
   "source": [
    "## Синтаксис"
   ]
  },
  {
   "cell_type": "markdown",
   "id": "5554d231-e1c6-4841-a573-51273956349e",
   "metadata": {},
   "source": [
    "#### Классы"
   ]
  },
  {
   "cell_type": "code",
   "execution_count": 1,
   "id": "4eddcbc1-6c5e-451f-80fd-ce519e033683",
   "metadata": {
    "tags": []
   },
   "outputs": [
    {
     "name": "stdout",
     "output_type": "stream",
     "text": [
      "Person: Alice, Age: 30\n",
      "Hello, my name is Bob\n",
      "Person: Charlie, Age: 21\n",
      "Darwin is studying Math\n",
      "False\n"
     ]
    }
   ],
   "source": [
    "class Person:\n",
    "    def __init__(self, name = 'NaN', age = 'NaN'):\n",
    "        self.name = name\n",
    "        if isinstance(age, int) or age == 'NaN':\n",
    "          self.age = age\n",
    "\n",
    "    def __str__(self):\n",
    "        return f'Person: {self.name}, Age: {self.age}'\n",
    "\n",
    "    def greet(self):\n",
    "        return f'Hello, my name is {self.name}'\n",
    "\n",
    "class Student(Person):\n",
    "    def __init__(self, name, age, student_id):\n",
    "        super().__init__(name, age)\n",
    "        self.student_id = student_id\n",
    "\n",
    "    def study(self, subject):\n",
    "        return f'{self.name} is studying {subject}'\n",
    "\n",
    "    def __eq__(self, other):\n",
    "        return self.student_id == other.student_id\n",
    "\n",
    "# Создание объектов и использование классов\n",
    "person1 = Person(\"Alice\", 30)\n",
    "person2 = Person(\"Bob\", 25)\n",
    "print(person1)  # Вывод информации о персоне\n",
    "print(person2.greet())  # Вывод приветствия\n",
    "\n",
    "student1 = Student(\"Charlie\", 21, 12345)\n",
    "student2 = Student(\"Darwin\", 22, 54321)\n",
    "print(student1)  # Вывод информации о студенте\n",
    "print(student2.study(\"Math\"))  # Вывод действия студента\n",
    "\n",
    "# Использование перегрузки операторов\n",
    "print(student1 == student2)  # Сравнение студентов"
   ]
  },
  {
   "cell_type": "markdown",
   "id": "7f121fe2-8954-46f3-8138-162217175618",
   "metadata": {},
   "source": [
    "#### Функции"
   ]
  },
  {
   "cell_type": "code",
   "execution_count": 9,
   "id": "44141c01-7802-439d-ad03-e57aea806b52",
   "metadata": {
    "tags": []
   },
   "outputs": [
    {
     "name": "stdout",
     "output_type": "stream",
     "text": [
      "I am super excited for this course! I am super excited for this course! I am super excited for this course! I am super excited for this course! I am super excited for this course!\n"
     ]
    }
   ],
   "source": [
    "def show_excitement(s, times):\n",
    "    # Your code goes here!\n",
    "    lst = [s]\n",
    "    return lst * times\n",
    "\n",
    "\n",
    "print(*show_excitement('I am super excited for this course!', 5))"
   ]
  },
  {
   "cell_type": "markdown",
   "id": "844f93c1-15fb-4fa2-8391-50c37e1a6587",
   "metadata": {},
   "source": [
    "### Сложность"
   ]
  },
  {
   "cell_type": "markdown",
   "id": "6162b749-4fde-4f7e-8626-09647e419b8d",
   "metadata": {},
   "source": [
    "Самые часто встречаемые случаи:\n",
    "- O(1) - константное время\n",
    "- O(logN) - логарифмическое время\n",
    "- O(N) - линейное время\n",
    "- O(NlogN) - квазилинейное время\n",
    "- O(N^2) - квадратичное время\n",
    "- O(N^M) - полиномиальное время\n",
    "- O(2^N) - експоненциальное время\n",
    "- O(N!) - факториальное время"
   ]
  },
  {
   "cell_type": "markdown",
   "id": "4af626fa-2feb-42b5-8de5-21296ff45bb3",
   "metadata": {},
   "source": [
    "#### Примеры алгоритмов разной сложности"
   ]
  },
  {
   "cell_type": "code",
   "execution_count": 13,
   "id": "3cb6872f-fd32-47f4-8a33-ae6757491576",
   "metadata": {
    "tags": []
   },
   "outputs": [
    {
     "name": "stdout",
     "output_type": "stream",
     "text": [
      "Testing example1:\n",
      "Manny\n",
      "Mabel\n",
      "Martha\n",
      "Max\n",
      "\n",
      "Testing example2:\n",
      "Manny\n",
      "10\n",
      "\n",
      "Testing example3:\n",
      "name :  Manny\n",
      "age :  10\n",
      "weight :  500\n",
      "name :  Mabel\n",
      "age :  15\n",
      "weight :  600\n",
      "name :  Martha\n",
      "age :  5\n",
      "weight :  400\n",
      "name :  Max\n",
      "age :  20\n",
      "weight :  700\n",
      "\n",
      "Testing example4:\n",
      "Max\n"
     ]
    }
   ],
   "source": [
    "# O(n) - time complexity\n",
    "def example1(manatees):\n",
    "    for manatee in manatees:\n",
    "        print(manatee['name'])\n",
    "\n",
    "# O(1) - time complexity        \n",
    "def example2(manatees):\n",
    "    print(manatees[0]['name'])\n",
    "    print(manatees[0]['age'])\n",
    "\n",
    "# O(n*m) - time complexity\n",
    "def example3(manatees):\n",
    "    for manatee in manatees:\n",
    "        for manatee_property in manatee:\n",
    "            print(manatee_property, ': ', manatee[manatee_property])\n",
    "\n",
    "# O(n^2) - time complexity\n",
    "def example4(manatees):\n",
    "    oldest_manatee = 'No manatees here!'\n",
    "    for manatee1 in manatees:\n",
    "        for manatee2 in manatees:\n",
    "            if manatee1['age'] < manatee2['age']:\n",
    "                oldest_manatee = manatee2['name']\n",
    "            else:\n",
    "                oldest_manatee = manatee1['name']\n",
    "    print(oldest_manatee)\n",
    "    \n",
    "    \n",
    "# example list of manatees\n",
    "manatees = [\n",
    "    {'name': 'Manny', 'age': 10, 'weight': 500},\n",
    "    {'name': 'Mabel', 'age': 15, 'weight': 600},\n",
    "    {'name': 'Martha', 'age': 5, 'weight': 400},\n",
    "    {'name': 'Max', 'age': 20, 'weight': 700}\n",
    "]\n",
    "\n",
    "# test example1\n",
    "print('Testing example1:')\n",
    "example1(manatees) \n",
    "\n",
    "# test example2\n",
    "print('\\nTesting example2:')\n",
    "example2(manatees) \n",
    "\n",
    "# test example3\n",
    "print('\\nTesting example3:')\n",
    "example3(manatees)\n",
    "\n",
    "# test example4\n",
    "print('\\nTesting example4:')\n",
    "example4(manatees) "
   ]
  }
 ],
 "metadata": {
  "kernelspec": {
   "display_name": "Python 3 (ipykernel)",
   "language": "python",
   "name": "python3"
  },
  "language_info": {
   "codemirror_mode": {
    "name": "ipython",
    "version": 3
   },
   "file_extension": ".py",
   "mimetype": "text/x-python",
   "name": "python",
   "nbconvert_exporter": "python",
   "pygments_lexer": "ipython3",
   "version": "3.11.7"
  }
 },
 "nbformat": 4,
 "nbformat_minor": 5
}
