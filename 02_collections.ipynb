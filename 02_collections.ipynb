{
 "cells": [
  {
   "cell_type": "markdown",
   "id": "9ec91368-53c8-4317-bf12-e21995bfec83",
   "metadata": {},
   "source": [
    "## 2. Списковые структуры данных"
   ]
  },
  {
   "cell_type": "markdown",
   "id": "03567d44-8912-4416-942a-3cbf74bb3eb7",
   "metadata": {},
   "source": [
    "### Linked Lists"
   ]
  },
  {
   "cell_type": "markdown",
   "id": "e552220a-2572-49c8-94f4-ce919fdb8530",
   "metadata": {},
   "source": [
    "Связанный список - это не массив. \n",
    "В нем есть порядок, но нет индексов, вместо этого в нем есть ссылки на следующий элемент связанного списка.  \n",
    "Преимущество связанного списка в том, что вы можете легко добавлять или удалять из него элементы."
   ]
  },
  {
   "cell_type": "markdown",
   "id": "dcaebc69-b5c7-4489-ade2-0b43e1e50f0a",
   "metadata": {},
   "source": [
    "Вставка занимает постоянное время для связанных списков O(1), потому что вы просто перемещаете указатели (ссылки, references) вместо того, чтобы выполнять итерацию по каждому элементу в списке (что вы делаете в массивах и списках python)."
   ]
  },
  {
   "cell_type": "markdown",
   "id": "927bb4c8-6fcb-4926-b818-ce1bb6c4ef00",
   "metadata": {},
   "source": [
    "#### Односвязный список"
   ]
  },
  {
   "cell_type": "code",
   "execution_count": 1,
   "id": "c1878575-2aec-45d0-a326-61b7598c117e",
   "metadata": {
    "tags": []
   },
   "outputs": [
    {
     "name": "stdout",
     "output_type": "stream",
     "text": [
      "3\n",
      "3\n",
      "4\n",
      "2\n",
      "4\n",
      "3\n"
     ]
    }
   ],
   "source": [
    "class Element(object):\n",
    "    def __init__(self, value):\n",
    "        self.value = value\n",
    "        self.next = None\n",
    "\n",
    "\n",
    "class LinkedList(object):\n",
    "    def __init__(self, head=None):\n",
    "        self.head = head\n",
    "\n",
    "\n",
    "    def append(self, new_element):\n",
    "        current = self.head\n",
    "        if self.head:\n",
    "            while current.next:\n",
    "                current = current.next\n",
    "            current.next = new_element\n",
    "        else:\n",
    "            self.head = new_element\n",
    "\n",
    "\n",
    "    def get_position(self, position):\n",
    "        \"\"\"Get an element from a particular position.\n",
    "        Assume the first position is \"1\".\n",
    "        Return \"None\" if position is not in the list.\"\"\"\n",
    "        if position < 1:\n",
    "            return None\n",
    "\n",
    "        current = self.head\n",
    "        for i in range(1, position):\n",
    "            if current.next is None:\n",
    "                return None\n",
    "            current = current.next\n",
    "\n",
    "        return current\n",
    "\n",
    "\n",
    "    def insert(self, new_element, position):\n",
    "        \"\"\"Insert a new node at the given position.\n",
    "        Assume the first position is \"1\".\n",
    "        Inserting at position 3 means between\n",
    "        the 2nd and 3rd elements.\"\"\"\n",
    "        if position == 1:\n",
    "            new_element.next = self.head\n",
    "            self.head = new_element\n",
    "            return\n",
    "\n",
    "        current = self.head\n",
    "        for i in range(1, position-1):\n",
    "            if current.next is None:\n",
    "                return\n",
    "            current = current.next\n",
    "\n",
    "        new_element.next = current.next\n",
    "        current.next = new_element\n",
    "\n",
    "\n",
    "    def delete(self, value):\n",
    "        \"\"\"Delete the first node with a given value.\"\"\"\n",
    "        current = self.head\n",
    "        previous = None\n",
    "\n",
    "        while current is not None:\n",
    "            if current.value == value:\n",
    "                if previous is not None:\n",
    "                    previous.next = current.next\n",
    "                else:\n",
    "                    self.head = current.next\n",
    "                return\n",
    "            previous = current\n",
    "            current = current.next\n",
    "\n",
    "\n",
    "# Test cases\n",
    "# Set up some Elements\n",
    "e1 = Element(1)\n",
    "e2 = Element(2)\n",
    "e3 = Element(3)\n",
    "e4 = Element(4)\n",
    "\n",
    "# Start setting up a LinkedList\n",
    "ll = LinkedList(e1)\n",
    "ll.append(e2)\n",
    "ll.append(e3)\n",
    "\n",
    "# Test get_position\n",
    "# Should print 3\n",
    "print(ll.head.next.next.value)\n",
    "# Should also print 3\n",
    "print(ll.get_position(3).value)\n",
    "\n",
    "# Test insert\n",
    "ll.insert(e4, 3)\n",
    "# Should print 4 now\n",
    "print(ll.get_position(3).value)\n",
    "\n",
    "# Test delete\n",
    "ll.delete(1)\n",
    "# Should print 2 now\n",
    "print(ll.get_position(1).value)\n",
    "# Should print 4 now\n",
    "print(ll.get_position(2).value)\n",
    "# Should print 3 now\n",
    "print(ll.get_position(3).value)"
   ]
  },
  {
   "cell_type": "markdown",
   "id": "6b5ae682-71ee-4173-bfbd-ea34565b31e7",
   "metadata": {},
   "source": [
    "### Стэк"
   ]
  },
  {
   "cell_type": "markdown",
   "id": "6d131512-1c9f-415f-991a-5022a6791080",
   "metadata": {},
   "source": [
    "Стек похож на стопку объектов в реальной жизни. Вы можете помещать объекты один на другой и иметь легкий доступ к объекту, который вы недавно добавили в стек.\n",
    "\n",
    "Last In - First Out (LI-FO)"
   ]
  },
  {
   "cell_type": "markdown",
   "id": "ae59bcc3-e992-4435-9540-bc0349696ff1",
   "metadata": {},
   "source": [
    "push -добавить элемент сверху\n",
    "pop - удалить верхний элемент\n",
    "\n",
    "Сложность O(1) для обеих операций."
   ]
  },
  {
   "cell_type": "code",
   "execution_count": 2,
   "id": "16543405-964e-4faa-8769-8766d767957c",
   "metadata": {
    "tags": []
   },
   "outputs": [
    {
     "name": "stdout",
     "output_type": "stream",
     "text": [
      "3\n",
      "2\n",
      "1\n",
      "None\n",
      "4\n"
     ]
    }
   ],
   "source": [
    "class Element(object):\n",
    "    def __init__(self, value):\n",
    "        self.value = value\n",
    "        self.next = None\n",
    "\n",
    "class Stack:\n",
    "    def __init__(self, head=None):\n",
    "        self.head = head\n",
    "\n",
    "    def push(self, new_element):\n",
    "        \"\"\"Insert new element as the head of the LinkedList\"\"\"\n",
    "        new_element.next = self.head\n",
    "        self.head = new_element\n",
    "\n",
    "    def pop(self):\n",
    "        \"\"\"Delete the first (head) element in the LinkedList as return it\"\"\"\n",
    "        if self.head:\n",
    "            deleted_element = self.head\n",
    "            self.head = deleted_element.next\n",
    "            return deleted_element\n",
    "        else:\n",
    "            return None\n",
    "\n",
    "e1 = Element(1)\n",
    "e2 = Element(2)\n",
    "e3 = Element(3)\n",
    "e4 = Element(4)\n",
    "\n",
    "stack = Stack(e1)\n",
    "\n",
    "stack.push(e2)\n",
    "stack.push(e3)\n",
    "print(stack.pop().value)\n",
    "print(stack.pop().value)\n",
    "print(stack.pop().value)\n",
    "print(stack.pop())\n",
    "stack.push(e4)\n",
    "print(stack.pop().value)"
   ]
  },
  {
   "cell_type": "markdown",
   "id": "719c110b-0a59-430d-a64d-1b89beb251f2",
   "metadata": {},
   "source": [
    "### Очередь"
   ]
  },
  {
   "cell_type": "markdown",
   "id": "73f22133-decc-4d2d-bbca-d2709496fa04",
   "metadata": {},
   "source": [
    "Очередь - first in, first out (FI-FO). "
   ]
  },
  {
   "cell_type": "markdown",
   "id": "2e0c6f1c-aee8-464b-8627-a6713c86c188",
   "metadata": {},
   "source": [
    "Первый элемент очереди или самый старый элемент очереди называется Head.   \n",
    "Последний элемент очереди или самый новый элемент очереди называется Tail. \n",
    "\n",
    "enqueue - добавление элемента в конец очереди.  \n",
    "dequeue - удаление начального элемента очереди.   \n",
    "peak - просмотр начального элемента очереди, но не его удаление."
   ]
  },
  {
   "cell_type": "code",
   "execution_count": 3,
   "id": "39a06040-fa25-45a7-b596-34ce3e9b0327",
   "metadata": {
    "tags": []
   },
   "outputs": [
    {
     "name": "stdout",
     "output_type": "stream",
     "text": [
      "1\n",
      "1\n",
      "2\n",
      "3\n",
      "4\n"
     ]
    }
   ],
   "source": [
    "class Element(object):\n",
    "    def __init__(self, value):\n",
    "        self.value = value\n",
    "        self.next = None\n",
    "\n",
    "class Queue:\n",
    "    def __init__(self, head=None):\n",
    "        self.storage = [head]\n",
    "\n",
    "    def enqueue(self, new_element):\n",
    "        self.storage.append(new_element)\n",
    "\n",
    "    def peek(self):\n",
    "        return self.storage[0].value\n",
    "\n",
    "    def dequeue(self):\n",
    "        return self.storage.pop(0).value\n",
    "\n",
    "\n",
    "e1 = Element(1)\n",
    "e2 = Element(2)\n",
    "e3 = Element(3)\n",
    "e4 = Element(4)\n",
    "\n",
    "# Setup\n",
    "q = Queue(e1)\n",
    "q.enqueue(e2)\n",
    "q.enqueue(e3)\n",
    "\n",
    "# Test peek\n",
    "# Should be 1\n",
    "print(q.peek())\n",
    "\n",
    "# Test dequeue\n",
    "# Should be 1\n",
    "print(q.dequeue())\n",
    "\n",
    "# Test enqueue\n",
    "q.enqueue(e4)\n",
    "# Should be 2\n",
    "print(q.dequeue())\n",
    "# Should be 3\n",
    "print(q.dequeue())\n",
    "# Should be 4\n",
    "print(q.dequeue())"
   ]
  }
 ],
 "metadata": {
  "kernelspec": {
   "display_name": "Python 3 (ipykernel)",
   "language": "python",
   "name": "python3"
  },
  "language_info": {
   "codemirror_mode": {
    "name": "ipython",
    "version": 3
   },
   "file_extension": ".py",
   "mimetype": "text/x-python",
   "name": "python",
   "nbconvert_exporter": "python",
   "pygments_lexer": "ipython3",
   "version": "3.11.7"
  }
 },
 "nbformat": 4,
 "nbformat_minor": 5
}
