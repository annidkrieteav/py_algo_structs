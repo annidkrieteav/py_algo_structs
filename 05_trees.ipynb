{
 "cells": [
  {
   "cell_type": "markdown",
   "id": "9ec91368-53c8-4317-bf12-e21995bfec83",
   "metadata": {},
   "source": [
    "## 5. Деревья"
   ]
  },
  {
   "cell_type": "markdown",
   "id": "2bb73527-3ab3-4f6d-8767-1b4204ac0aee",
   "metadata": {},
   "source": [
    "Дерево начинается с места, называемого корнем.   \n",
    "Вы добавляете к нему данные и формируете ветви.   \n",
    "У деревьев есть листья.  \n",
    "Совокупность деревьев называется лесом."
   ]
  },
  {
   "cell_type": "markdown",
   "id": "34d4cdc1-9013-4d72-ab15-1aac3c8566aa",
   "metadata": {},
   "source": [
    "Дерево является продолжением связанного списка.  \n",
    "Но вместо ссылки только на один следующий элемент, корень дерева и его дочерний элемент могут содержать несколько следующих элементов и ссылок на них."
   ]
  },
  {
   "cell_type": "markdown",
   "id": "0937d378-8a87-46d6-b8de-d8de7cc3c114",
   "metadata": {},
   "source": [
    "То, что мы называем деревом:\n",
    "- дерево должно быть полностью взаимосвязанным (если мы начнем с корня, мы сможем добраться до каждого элемента дерева) \n",
    "- в дереве не должно быть циклов (цикл возникает, когда есть возможность дважды столкнуться с одним и тем же узлом)"
   ]
  },
  {
   "cell_type": "markdown",
   "id": "9c060bb2-a7c3-4df9-b07f-b2bfff6b772d",
   "metadata": {},
   "source": [
    "Узлы в дереве часто описываются как имеющие отношение \"родитель-потомок\":\n",
    "- узел на более низком уровне является **родительским.**\n",
    "- узел, подключенный к нему на более высоком уровне, является **дочерним.**\n",
    "- узел в середине может быть как родительским, так и дочерним (это зависит от того, с чем он сравнивается)\n",
    "- у любого дочернего узла может быть только один родительский узел \n",
    "- если у родительского узла несколько дочерних узлов, эти дочерние узлы считаются **братьями и сестрами** друг друга\n",
    "- узел на более низком уровне можно назвать **предком**\n",
    "- а узел на более высоком уровне можно назвать **потомком**\n",
    "- конечные узлы, у которых нет дочерних, называются **конечными узлами** или **внешними узлами**, а родительский узел будет называться **внутренним узлом**. \n",
    "- вы можете называть соединения между узлами **ребрами**\n",
    "- группа соединений, взятых вместе, называется **путем**\n",
    "- высота узла - это количество ребер между ним и самым дальним листом дерева.\n",
    "- высота всех листьев равна нулю. Родительский элемент листа будет иметь высоту 1 и т.д. \n",
    "- высота дерева в целом равна высоте корневого узла\n",
    "- глубина узла - это количество ребер до корня\n",
    "- высота и глубина должны изменяться обратно пропорционально"
   ]
  },
  {
   "cell_type": "markdown",
   "id": "2764ee10-04e9-4545-9cb6-71be119e8961",
   "metadata": {},
   "source": [
    "Есть два основных обхода дерева:\n",
    "- depth first search (DFS)\n",
    "- breadth first search (BFS)"
   ]
  },
  {
   "cell_type": "markdown",
   "id": "fca1d359-a881-455e-83ec-4f65069dd655",
   "metadata": {},
   "source": [
    "В DFS философия заключается в том, что если есть дочерние узлы, которые нужно исследовать, то их изучение, безусловно, является приоритетом.  \n",
    "\n",
    "В BFS приоритетом является посещение каждого узла на том же уровне, на котором мы находимся в данный момент, перед посещением дочерних узлов. Мы начинаем с самой левой части уровня и двигаемся вправо."
   ]
  },
  {
   "cell_type": "markdown",
   "id": "844f93c1-15fb-4fa2-8391-50c37e1a6587",
   "metadata": {},
   "source": [
    "### Обход в глубину"
   ]
  },
  {
   "cell_type": "markdown",
   "id": "de2f257c-f44a-46c5-a928-449a97f7511c",
   "metadata": {},
   "source": [
    "**Предварительный заказ обходов** - проверьте узел, если вы его видите, прежде чем переходить дальше по дереву:\n",
    "- мы начинаем с корня и проверяем, что мы его увидели\n",
    "- затем мы переходим к одному из его дочерних узлов (обычно к левому) и также отмечаем его\n",
    "- мы продолжим обход самых левых узлов до тех пор, пока не получим лист\n",
    "- мы отметим лист и оттуда вернемся к родительскому узлу\n",
    "- теперь мы можем перейти к правому дочернему узлу и также отметить его\n",
    "- когда мы закончим с левым поддеревом, мы возвращаемся к корню и начинаем делать то же самое с правым поддеревом (выполняем те же действия, пока не проверим все)."
   ]
  },
  {
   "cell_type": "markdown",
   "id": "391216d8-3f65-42a3-a0ef-8b1560f100a5",
   "metadata": {},
   "source": [
    "**Обходы по порядку** - мы перемещаемся по узлам в том же порядке, что и в DFS. Однако на этот раз мы будем отмечать узлы по-другому (мы будем проверять узел только тогда, когда увидим его левый дочерний элемент и вернемся к нему).:\n",
    "- мы начинаем с корня, но не отмечаем его сразу, так как мы еще не видели его крайнего левого дочернего элемента\n",
    "- мы переходим непосредственно к крайнему левому дочернему элементу корня\n",
    "- мы отмечаем лист и переходим к родительскому элементу\n",
    "- теперь мы можем проверить и родительский элемент, потому что мы уже видели крайнего левого дочернего элемента\n",
    "- мы переходим к нужному узлу, у которого нет дочерних узлов, чтобы мы могли проверить и его\n",
    "- теперь мы возвращаемся к корню, отмечаем его и повторяем те же действия для правого поддерева."
   ]
  },
  {
   "cell_type": "markdown",
   "id": "68bb9248-6d85-4b2e-8042-fc09554da692",
   "metadata": {},
   "source": [
    "**Обход в обратном порядке** - мы не сможем отметить узел, пока не просмотрим всех его потомков или пока не посетим оба его дочерних элемента и не вернемся обратно:\n",
    "- мы начинаем с корня, не отмечайте его\n",
    "- продолжайте до крайнего левого листа\n",
    "- мы проверяем крайний левый лист и переходим к родительскому узлу\n",
    "- на этот раз мы не отмечаем родительский узел и переходим к правому узлу\n",
    "- мы отмечаем правый дочерний узел \n",
    "- возвращаемся к родительскому узлу, и теперь мы также можем его отметить\n",
    "- мы пропустим корневой узел и просто переместимся полностью вниз вправо\n",
    "- и повторим те же действия для правого поддерева."
   ]
  },
  {
   "cell_type": "markdown",
   "id": "03567d44-8912-4416-942a-3cbf74bb3eb7",
   "metadata": {},
   "source": [
    "### Поиск и удаление"
   ]
  },
  {
   "cell_type": "markdown",
   "id": "d01d1882-a68c-4598-9ebe-ce5688348a39",
   "metadata": {},
   "source": [
    "Узлы могут иметь:\n",
    "- ноль дочерних узлов\n",
    "- один дочерний узел\n",
    "- два дочерних узла"
   ]
  },
  {
   "cell_type": "markdown",
   "id": "d5dd51c2-aa48-40f0-ae38-3ac1d19d9bbc",
   "metadata": {},
   "source": [
    "При поиске мы должны пройти через все элементы дерева, поэтому временная сложность операции поиска в дереве будет равна O(n)."
   ]
  },
  {
   "cell_type": "markdown",
   "id": "3775e206-394e-494a-a03b-efa0257682b6",
   "metadata": {},
   "source": [
    "Удаление:\n",
    "- если вы удаляете ветку, вы можете просто удалить его и двигаться дальше\n",
    "- если вы удаляете узел, имеющий только один дочерний узел, вы можете удалить его, поднять дочерний узел на один уровень выше и двигаться дальше\n",
    "- если вы удаляете узел, имеющий два дочерних узла, у вас есть два варианта:\n",
    "    - вы можете повысить одного из детей на один уровень, но если у этих детей также есть двое детей, вам придется действовать по-другому: \n",
    "    - вы спускаетесь к дереву, пока не наткнетесь на лист. Здесь у нас нет никаких требований к порядку, поэтому вы можете просто поместить лист на то место, где был ваш удаленный узел, без проблем."
   ]
  },
  {
   "cell_type": "markdown",
   "id": "d3cc1a6b-799f-4bcf-823a-10e9ef63019f",
   "metadata": {},
   "source": [
    "Операция удаления также имеет O (n) временную сложность, поскольку она также включает в себя операцию поиска."
   ]
  },
  {
   "cell_type": "markdown",
   "id": "6b5ae682-71ee-4173-bfbd-ea34565b31e7",
   "metadata": {},
   "source": [
    "### Вставка"
   ]
  },
  {
   "cell_type": "markdown",
   "id": "e266e037-91d3-41e3-8503-fdfd3c3b56e3",
   "metadata": {},
   "source": [
    "Вставить элемент в дерево, если в нем нет порядка, особенно просто. Мы просто:\n",
    "- перемещаемся вниз от корня\n",
    "- и продолжаем искать пустое место\n",
    "- помня, что у каждого родительского элемента может быть не более двух дочерних элементов."
   ]
  },
  {
   "cell_type": "markdown",
   "id": "627ab00e-2a07-4a71-8c6f-450d123f0d87",
   "metadata": {},
   "source": [
    "#### Бинарное древо"
   ]
  },
  {
   "cell_type": "code",
   "execution_count": 1,
   "id": "bfa1dbf5-0201-4580-bfeb-8b6b2df2adcd",
   "metadata": {
    "tags": []
   },
   "outputs": [
    {
     "name": "stdout",
     "output_type": "stream",
     "text": [
      "True\n",
      "False\n",
      "1-2-4-5-3\n"
     ]
    }
   ],
   "source": [
    "class Node(object):\n",
    "    def __init__(self, value):\n",
    "        self.value = value\n",
    "        self.left = None\n",
    "        self.right = None\n",
    "\n",
    "class BinaryTree(object):\n",
    "    def __init__(self, root):\n",
    "        self.root = Node(root)\n",
    "\n",
    "    def search(self, find_val):\n",
    "        \"\"\"Return True if the value is in the tree, return False otherwise.\"\"\"\n",
    "        # Use the helper method preorder_search to recursively search the tree\n",
    "        return self.preorder_search(self.root, find_val)\n",
    "\n",
    "    def print_tree(self):\n",
    "        \"\"\"Print out all tree nodes as they are visited in a pre-order traversal.\"\"\"\n",
    "        # Use the helper method preorder_print to recursively traverse and print the tree\n",
    "        return self.preorder_print(self.root, \"\")[:-1]\n",
    "\n",
    "    def preorder_search(self, start, find_val):\n",
    "        \"\"\"Helper method - use this to create a recursive search solution.\"\"\"\n",
    "        # Base case: if start is None or has the value we're searching for, return True\n",
    "        if start is None:\n",
    "            return False\n",
    "        elif start.value == find_val:\n",
    "            return True\n",
    "        # Recursively search the left and right subtrees\n",
    "        else:\n",
    "            return self.preorder_search(start.left, find_val) or self.preorder_search(start.right, find_val)\n",
    "\n",
    "    def preorder_print(self, start, traversal):\n",
    "        \"\"\"Helper method - use this to create a recursive print solution.\"\"\"\n",
    "        # Base case: if start is None, return the traversal string\n",
    "        if start is None:\n",
    "            return traversal\n",
    "        # Add the value of the current node to the traversal string, \n",
    "        # then recursively traverse the left and right subtrees\n",
    "        traversal += str(start.value) + \"-\"\n",
    "        traversal = self.preorder_print(start.left, traversal)\n",
    "        traversal = self.preorder_print(start.right, traversal)\n",
    "        return traversal\n",
    "\n",
    "\n",
    "# Set up tree\n",
    "tree = BinaryTree(1)\n",
    "tree.root.left = Node(2)\n",
    "tree.root.right = Node(3)\n",
    "tree.root.left.left = Node(4)\n",
    "tree.root.left.right = Node(5)\n",
    "\n",
    "# Test search\n",
    "# Should be True\n",
    "print(tree.search(4))\n",
    "# Should be False\n",
    "print(tree.search(6))\n",
    "\n",
    "# Test print_tree\n",
    "# Should be 1-2-4-5-3\n",
    "print(tree.print_tree())"
   ]
  },
  {
   "cell_type": "markdown",
   "id": "a9e38a1b-f8a6-40f5-9b20-a3c6e5bf1ba1",
   "metadata": {},
   "source": [
    "### Деревья бинарного поиска."
   ]
  },
  {
   "cell_type": "markdown",
   "id": "8dffbe4b-a166-4499-9af2-99370d00a160",
   "metadata": {},
   "source": [
    "Общее правило заключается в том, что у каждого родителя есть не более двух детей."
   ]
  },
  {
   "cell_type": "markdown",
   "id": "10ea39fe-651d-49d3-a630-9f755a4d4016",
   "metadata": {},
   "source": [
    "Также существует дополнительное правило о том, как устроен значения, связанные с каждым узлом :\n",
    "- Деревья отсортированы\n",
    "- так что все значения слева от конкретного узла меньше, чем\n",
    "- и все ценности, о праве или иного узла превышает ее."
   ]
  },
  {
   "cell_type": "markdown",
   "id": "35e52842-7a1c-4066-a263-5883fee88316",
   "metadata": {},
   "source": [
    "При поиске нам не нужно искать значение в каждом узле, нам просто нужно посмотреть на одно значение на каждом уровне дерева, и тогда мы сможем принять решение, просто сопоставив его с элементом.  \n",
    "Это означает, что среда выполнения поиска по британскому летнему времени всего высота дерева, которая является o(Фремонт, Калифорния)."
   ]
  },
  {
   "cell_type": "markdown",
   "id": "37584364-cdad-42a7-8ead-cc9fd8768106",
   "metadata": {},
   "source": [
    "Вставка в бинарное дерево - это практически тот же процесс:\n",
    "- вы начинаете с самого верха\n",
    "- и вы можете быстро принять решение о том, куда смотреть на каждом шаге, сравнивая его с элементом, который хотите добавить\n",
    "- в конце концов, вы обнаружите это открытое место в дереве."
   ]
  },
  {
   "cell_type": "markdown",
   "id": "79f7c853-099b-4ba5-9d16-fa4f17753217",
   "metadata": {},
   "source": [
    "Удаление - это немного сложная процедура, но она сложна так же, как и для общего дерева, поэтому можно применить все шаги, упомянутые выше."
   ]
  },
  {
   "cell_type": "markdown",
   "id": "1064a96e-5575-4ec1-be5a-b5928d8c57dd",
   "metadata": {},
   "source": [
    "#### Дерево бинарного поиска. "
   ]
  },
  {
   "cell_type": "code",
   "execution_count": 2,
   "id": "d2d48de3-e0b7-43ec-85d9-d1e3288a3e77",
   "metadata": {
    "tags": []
   },
   "outputs": [
    {
     "name": "stdout",
     "output_type": "stream",
     "text": [
      "True\n",
      "False\n"
     ]
    }
   ],
   "source": [
    "class Node(object):\n",
    "    def __init__(self, value):\n",
    "        self.value = value\n",
    "        self.left = None\n",
    "        self.right = None\n",
    "\n",
    "\n",
    "class BST(object):\n",
    "    def __init__(self, root):\n",
    "        # Initialize the root node\n",
    "        self.root = Node(root)\n",
    "\n",
    "    def insert(self, new_val):\n",
    "        # Call the recursive insert helper function\n",
    "        self.insert_helper(self.root, new_val)\n",
    "\n",
    "    # Recursive insert function - private\n",
    "    def insert_helper(self, current, new_val):\n",
    "        # If the new value is greater than the current node value, go right\n",
    "        if current.value < new_val:\n",
    "            # If there is a right child, call the insert helper function recursively\n",
    "            if current.right:\n",
    "                self.insert_helper(current.right, new_val)\n",
    "            # If there is no right child, create a new node and set it as the right child\n",
    "            else:\n",
    "                current.right = Node(new_val)\n",
    "        # If the new value is less than or equal to the current node value, go left\n",
    "        else:\n",
    "            # If there is a left child, call the insert helper function recursively\n",
    "            if current.left:\n",
    "                self.insert_helper(current.left, new_val)\n",
    "            # If there is no left child, create a new node and set it as the left child\n",
    "            else:\n",
    "                current.left = Node(new_val)\n",
    "\n",
    "    def search(self, find_val):\n",
    "        # Call the recursive search helper function\n",
    "        return self.search_helper(self.root, find_val)\n",
    "\n",
    "    # Recursive search function - private\n",
    "    def search_helper(self, current, find_val):\n",
    "        # If the current node exists\n",
    "        if current:\n",
    "            # If the current node value is equal to the search value, return True\n",
    "            if current.value == find_val:\n",
    "                return True\n",
    "            # If the current node value is less than the search value, go right\n",
    "            elif current.value < find_val:\n",
    "                return self.search_helper(current.right, find_val)\n",
    "            # If the current node value is greater than the search value, go left\n",
    "            else:\n",
    "                return self.search_helper(current.left, find_val)\n",
    "        # If the current node does not exist, return False\n",
    "        return False\n",
    "\n",
    "\n",
    "# Set up tree\n",
    "tree = BST(4)\n",
    "\n",
    "# Insert elements\n",
    "tree.insert(2)\n",
    "tree.insert(1)\n",
    "tree.insert(3)\n",
    "tree.insert(5)\n",
    "\n",
    "# Check search\n",
    "# Should be True\n",
    "print(tree.search(4))\n",
    "# Should be False\n",
    "print(tree.search(6))"
   ]
  },
  {
   "cell_type": "markdown",
   "id": "5d83f228-21ec-4382-b022-5799d0cab201",
   "metadata": {},
   "source": [
    "### Кучи"
   ]
  },
  {
   "cell_type": "markdown",
   "id": "da5d5ed9-d6d9-4c2b-87c7-f3477a934291",
   "metadata": {},
   "source": [
    "Куча - это еще один особый вид дерева с некоторыми дополнительными правилами:\n",
    "- в куче элементы располагаются в порядке возрастания или убывания, так что корневой элемент является либо максимальным (max heaps), либо минимальным (min heaps) значением в дереве\n",
    "- кучи не обязательно должны быть бинарным деревом, поэтому у родителей может быть любое количество дочерних элементов"
   ]
  },
  {
   "cell_type": "markdown",
   "id": "5ada3895-bc6e-48f8-9664-0603d3f9fe8f",
   "metadata": {},
   "source": [
    "Временная сложность операций поиска, вставки и удаления может сильно варьироваться в зависимости от типа кучи, с которой мы имеем дело."
   ]
  },
  {
   "cell_type": "markdown",
   "id": "225fca29-6180-4090-8240-04fae3e4d92a",
   "metadata": {},
   "source": [
    "Inserting an element:\n",
    "- we place an element at the first available place (at the last level from left to right)\n",
    "- and then we **heapify**"
   ]
  },
  {
   "cell_type": "markdown",
   "id": "39bb00b8-52ea-4f53-82d8-365f9d722c84",
   "metadata": {},
   "source": [
    "Heapify - изменение порядка дерева на основе свойства heap (максимальный или минимальный элемент всегда находится в корне). Мы продолжаем сравнивать наш новый элемент с его родительским элементом, и если он (наш новый элемент) больше, мы меняем их местами."
   ]
  },
  {
   "cell_type": "markdown",
   "id": "8884d248-e30b-4139-9927-07199fc4155f",
   "metadata": {},
   "source": [
    "Кучи часто хранятся в виде массивов.  \n",
    "Первый элемент массива является корневым (и это самый большой элемент).  \n",
    "Следующие два элемента в массиве являются дочерними элементами корня.  \n",
    "Числа в массиве должны быть отсортированы, чтобы массив мог представлять собой кучу."
   ]
  },
  {
   "cell_type": "markdown",
   "id": "a334957c-aae3-4aa3-aea3-52c032352d38",
   "metadata": {},
   "source": [
    "Хранение наших данных в массиве может сэкономить нам немного места, потому что в массиве мы храним только значения и получаем к ним доступ с помощью индексов (нам не нужно иметь/хранить указатели). И если это не массив, то дополнительно мы должны хранить указатели на левый, правый дочерние элементы и на родительский узел."
   ]
  },
  {
   "cell_type": "markdown",
   "id": "51ede707-7f46-4bfe-a027-a7b67211e560",
   "metadata": {},
   "source": [
    "### Самобалансирующееся дерево"
   ]
  },
  {
   "cell_type": "markdown",
   "id": "967ac451-7fc1-4c33-8e50-64a71a7ba08c",
   "metadata": {},
   "source": [
    "Самый экстремальный вид несбалансированного дерева - это связанный список, в котором у каждого узла есть только один дочерний элемент."
   ]
  },
  {
   "cell_type": "markdown",
   "id": "cd8d2a61-34ce-4127-b5db-bcfce3b2e0af",
   "metadata": {},
   "source": [
    "Самобалансирующееся дерево - это дерево, которое пытается свести к минимуму количество используемых им уровней.  \n",
    "При вставке и удалении оно выполняет определенный алгоритм, чтобы поддерживать баланс."
   ]
  },
  {
   "cell_type": "markdown",
   "id": "0e2a96f1-78d1-4051-b2f5-c7d7c6bc2e17",
   "metadata": {},
   "source": [
    "Наиболее распространенным примером самобалансирующегося дерева является **красно-черное дерево**:\n",
    "- узлам присваивается дополнительное свойство цвета, и узлы должны быть скорее красными или черными.  \n",
    "- вторым свойством красно-черного дерева является наличие нулевых конечных узлов (каждый узел в вашем дереве, у которого нет двух листьев, должен иметь нулевые дочерние узлы). И все нулевые узлы должны быть окрашены в черный цвет. \n",
    "- если узел прочитан, оба его дочерних узла должны быть черными. \n",
    "- корневой узел должен быть черным (это необязательное правило).\n",
    "- каждый путь от анода к нулевым узлам-потомкам должен содержать одинаковое количество черных узлов.  \n",
    "Все эти правила гарантируют, что дерево никогда не выйдет из равновесия."
   ]
  },
  {
   "cell_type": "markdown",
   "id": "815b5569-9954-46a7-949c-02eae22feee4",
   "metadata": {},
   "source": [
    "Красно-черное дерево - это самобалансирующаяся структура данных бинарного дерева поиска, которая гарантирует сбалансированное дерево с наихудшей временной сложностью O(log n) для базовых операций, таких как вставка, удаление и поиск."
   ]
  },
  {
   "cell_type": "markdown",
   "id": "cbca851f-d001-4884-aef6-6e4634b98352",
   "metadata": {},
   "source": [
    "### Вставка в красно-черные деревья."
   ]
  },
  {
   "cell_type": "markdown",
   "id": "e5745d4c-d658-42f8-8f29-c5fc325dea9b",
   "metadata": {},
   "source": [
    "В красно-черном дереве каждая новая вершина должна быть вставлена красным цветом. Операция вставки в Красно-черном дереве аналогична операции вставки в дереве бинарного поиска. Но она вставляется со свойством color."
   ]
  },
  {
   "cell_type": "markdown",
   "id": "400535e7-ffa8-45f6-8be9-167719c118b5",
   "metadata": {},
   "source": [
    "Вот пошаговый алгоритм вставки нового узла в красно-черном дереве:\n",
    "\n",
    "1. Выполнить стандартную вставку , рассматривая новый узел как узел красного листа.\n",
    "2. Если родительский узел нового узла черный, то дерево по-прежнему является допустимым красно-черным деревом, поэтому мы закончили.\n",
    "3. Если родительский узел нового узла красный, то нам нужно восстановить свойства красно-черного, выполнив повороты и/или перекрасив узлы. Могут возникнуть следующие ситуации:\n",
    "- Дядя нового узла (родной брат родителя) также красный:\n",
    "    - Перекрасьте родительский узел и дядю в черный цвет.\n",
    "    - Перекрасьте дедушку и бабушку в красный цвет.\n",
    "    - Установите для текущего узла значение \"прародитель\" и повторите, начиная с шага 2.\n",
    "- Дядя нового узла черный, а новый узел является правым дочерним узлом:\n",
    "    - Поверните родительский узел влево вокруг его собственного узла.\n",
    "    - Установите для текущего узла значение \"родитель\" и повторите, начиная с шага 2.\n",
    "- Дядя нового узла черный, а новый узел является левым дочерним узлом:\n",
    "    - Поверните прародителя вправо вокруг его собственного узла.\n",
    "    - Поменяйте местами цвета родительского узла и прародителя.\n",
    "    - Установите для текущего узла значение родительского узла и повторите, начиная с шага 2.\n",
    "\n",
    "Как только алгоритм завершится, все красно-черные свойства дерева будут восстановлены, а новый узел будет вставлен в правильное положение."
   ]
  },
  {
   "cell_type": "code",
   "execution_count": 3,
   "id": "fa09c7bd-7ba8-49c3-b6eb-39af613fa0a5",
   "metadata": {
    "tags": []
   },
   "outputs": [],
   "source": [
    "class Node:\n",
    "    def __init__(self, key):\n",
    "        self.key = key\n",
    "        self.color = \"RED\"\n",
    "        self.left = None\n",
    "        self.right = None\n",
    "        self.parent = None\n",
    "\n",
    "class RedBlackTree:\n",
    "    def __init__(self):\n",
    "        self.root = None\n",
    "\n",
    "    def insert(self, key):\n",
    "        node = Node(key)\n",
    "        # Perform a standard BST insertion\n",
    "        if self.root is None:\n",
    "            self.root = node\n",
    "            node.color = \"BLACK\"\n",
    "            return\n",
    "        current = self.root\n",
    "        parent = None\n",
    "        while current is not None:\n",
    "            parent = current\n",
    "            if node.key < current.key:\n",
    "                current = current.left\n",
    "            else:\n",
    "                current = current.right\n",
    "        node.parent = parent\n",
    "        if node.key < parent.key:\n",
    "            parent.left = node\n",
    "        else:\n",
    "            parent.right = node\n",
    "        # Fix the tree to maintain red-black properties\n",
    "        self._insert_fixup(node)\n",
    "\n",
    "    def _insert_fixup(self, node):\n",
    "        while node.parent is not None and node.parent.color == \"RED\":\n",
    "            if node.parent == node.parent.parent.left:\n",
    "                uncle = node.parent.parent.right\n",
    "                if uncle is not None and uncle.color == \"RED\":\n",
    "                    node.parent.color = \"BLACK\"\n",
    "                    uncle.color = \"BLACK\"\n",
    "                    node.parent.parent.color = \"RED\"\n",
    "                    node = node.parent.parent\n",
    "                else:\n",
    "                    if node == node.parent.right:\n",
    "                        node = node.parent\n",
    "                        self._left_rotate(node)\n",
    "                    node.parent.color = \"BLACK\"\n",
    "                    node.parent.parent.color = \"RED\"\n",
    "                    self._right_rotate(node.parent.parent)\n",
    "            else:\n",
    "                uncle = node.parent.parent.left\n",
    "                if uncle is not None and uncle.color == \"RED\":\n",
    "                    node.parent.color = \"BLACK\"\n",
    "                    uncle.color = \"BLACK\"\n",
    "                    node.parent.parent.color = \"RED\"\n",
    "                    node = node.parent.parent\n",
    "                else:\n",
    "                    if node == node.parent.left:\n",
    "                        node = node.parent\n",
    "                        self._right_rotate(node)\n",
    "                    node.parent.color = \"BLACK\"\n",
    "                    node.parent.parent.color = \"RED\"\n",
    "                    self._left_rotate(node.parent.parent)\n",
    "        self.root.color = \"BLACK\"\n",
    "\n",
    "    def _left_rotate(self, node):\n",
    "        right_child = node.right\n",
    "        node.right = right_child.left\n",
    "        if right_child.left is not None:\n",
    "            right_child.left.parent = node\n",
    "        right_child.parent = node.parent\n",
    "        if node.parent is None:\n",
    "            self.root = right_child\n",
    "        elif node == node.parent.left:\n",
    "            node.parent.left = right_child\n",
    "        else:\n",
    "            node.parent.right = right_child\n",
    "        right_child.left = node\n",
    "        node.parent = right_child\n",
    "\n",
    "    def _right_rotate(self, node):\n",
    "        left_child = node.left\n",
    "        node.left = left_child.right\n",
    "        if left_child.right is not None:\n",
    "            left_child.right.parent = node\n",
    "        left_child.parent = node.parent\n",
    "        if node.parent is None:\n",
    "            self.root = left_child\n",
    "        elif node == node.parent.right:\n",
    "            node.parent.right = left_child\n",
    "        else:\n",
    "            node.parent.left = left_child\n",
    "        left_child.right = node\n",
    "        node.parent = left_child\n"
   ]
  },
  {
   "cell_type": "code",
   "execution_count": 4,
   "id": "a21a669d-1802-4cdb-98cd-94630946d454",
   "metadata": {
    "tags": []
   },
   "outputs": [
    {
     "name": "stdout",
     "output_type": "stream",
     "text": [
      "Red-Black Tree:\n",
      " 20 BLACK\n",
      "   10 BLACK\n",
      "     5 RED\n",
      "     15 RED\n",
      "   30 BLACK\n"
     ]
    }
   ],
   "source": [
    "# Create a new red-black tree\n",
    "rb_tree = RedBlackTree()\n",
    "\n",
    "# Insert some values into the tree\n",
    "rb_tree.insert(10)\n",
    "rb_tree.insert(20)\n",
    "rb_tree.insert(30)\n",
    "rb_tree.insert(15)\n",
    "rb_tree.insert(5)\n",
    "\n",
    "\n",
    "# Helper function to print the tree\n",
    "def print_tree(node, indent=0):\n",
    "    if node is not None:\n",
    "        print(\" \" * indent, node.key, node.color)\n",
    "        print_tree(node.left, indent + 2)\n",
    "        print_tree(node.right, indent + 2)\n",
    "        \n",
    "        \n",
    "# Print the tree to check the structure\n",
    "print(\"Red-Black Tree:\")\n",
    "print_tree(rb_tree.root)"
   ]
  }
 ],
 "metadata": {
  "kernelspec": {
   "display_name": "Python 3 (ipykernel)",
   "language": "python",
   "name": "python3"
  },
  "language_info": {
   "codemirror_mode": {
    "name": "ipython",
    "version": 3
   },
   "file_extension": ".py",
   "mimetype": "text/x-python",
   "name": "python",
   "nbconvert_exporter": "python",
   "pygments_lexer": "ipython3",
   "version": "3.7.11"
  }
 },
 "nbformat": 4,
 "nbformat_minor": 5
}
