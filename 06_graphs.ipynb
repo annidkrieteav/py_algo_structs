{
 "cells": [
  {
   "cell_type": "markdown",
   "id": "9ec91368-53c8-4317-bf12-e21995bfec83",
   "metadata": {},
   "source": [
    "## 6. Графы"
   ]
  },
  {
   "cell_type": "markdown",
   "id": "16b868d5-11c4-4f4a-830f-231424b9b43c",
   "metadata": {},
   "source": [
    "Граф - это структура данных, предназначенная для отображения взаимосвязей между объектами."
   ]
  },
  {
   "cell_type": "markdown",
   "id": "8849997b-88f8-4f02-98ff-0f2c7567a10f",
   "metadata": {},
   "source": [
    "Графы иногда называют сетью."
   ]
  },
  {
   "cell_type": "markdown",
   "id": "0753c50b-f86a-45fc-9a05-f81dc0c99562",
   "metadata": {},
   "source": [
    "Узел в графе это **вершина**."
   ]
  },
  {
   "cell_type": "markdown",
   "id": "d37239e5-8ca2-4d90-9eb6-26d1dd76618d",
   "metadata": {},
   "source": [
    "Соединения между узлами называются ребрами. Ребра также могут хранить данные. Обычно это данные о прочности соединения."
   ]
  },
  {
   "cell_type": "markdown",
   "id": "844f93c1-15fb-4fa2-8391-50c37e1a6587",
   "metadata": {},
   "source": [
    "### Направления и циклы"
   ]
  },
  {
   "cell_type": "markdown",
   "id": "df644cf2-18f7-4709-a0b6-8bb1d71ee6ff",
   "metadata": {},
   "source": [
    "Ребра графа могут иметь **направление**, что означает связь между двумя узлами, которая применяется только в одном направлении, а не в другом."
   ]
  },
  {
   "cell_type": "markdown",
   "id": "e992c878-5961-4e89-a0ee-1fdc1ad0efb8",
   "metadata": {},
   "source": [
    "**Ориентированный граф** - это термин, обозначающий граф, ребра которого имеют определенное направление."
   ]
  },
  {
   "cell_type": "markdown",
   "id": "89e65668-3b4a-4574-a0f1-ee2ef0f15f40",
   "metadata": {},
   "source": [
    "В графе могут быть циклы, а в деревьях - нет.  \n",
    "\n",
    "Цикл возникает в графе, когда вы начинаете с одного узла и проходите по ребрам до самого этого узла."
   ]
  },
  {
   "cell_type": "markdown",
   "id": "6b5ae682-71ee-4173-bfbd-ea34565b31e7",
   "metadata": {},
   "source": [
    "### Связность"
   ]
  },
  {
   "cell_type": "markdown",
   "id": "e6114a20-4165-4cdd-a79b-307a830eb6bd",
   "metadata": {},
   "source": [
    "У **несвязанного графа** есть некоторая вершина, до которой не могут добраться другие вершины. У него может быть одна вершина в стороне без ребер. У него также могут быть две так называемые связные компоненты, которые сами по себе являются связными графами, но не имеют связи между собой."
   ]
  },
  {
   "cell_type": "markdown",
   "id": "8e222544-d223-417d-9923-e16044317e4d",
   "metadata": {},
   "source": [
    "**Связный граф** не имеет несвязанных вершин.  \n",
    "В связном графе существует некоторый путь между одной вершиной и каждой другой вершиной."
   ]
  },
  {
   "cell_type": "markdown",
   "id": "b817375d-520c-412d-9e41-c61f9dbf8a85",
   "metadata": {},
   "source": [
    "**Связность графа** - измеряет минимальное количество элементов, которые необходимо удалить, чтобы граф стал несвязанным. Вы можете использовать связность, чтобы ответить на вопрос, какой граф сильнее."
   ]
  },
  {
   "cell_type": "markdown",
   "id": "6ecd2c3e-1e7a-47b5-9a64-ef9e6778a713",
   "metadata": {},
   "source": [
    "Ориентированный граф называется \"сильно связанным\", если в нем существует путь между любыми двумя парами вершин. Другими словами, мы можем достичь любой вершины графа из любой другой вершины, следуя по направленным ребрам."
   ]
  },
  {
   "cell_type": "markdown",
   "id": "1655a0ca-139a-428a-aa94-17cda8b29478",
   "metadata": {},
   "source": [
    "Слабосвязный граф - это граф, в котором существует по крайней мере один путь между любыми двумя вершинами, но эти пути необязательно могут быть направленными. Другими словами, если мы проигнорируем направление ребер в ориентированном графе, мы можем получить неориентированный граф. Если этот неориентированный граф связан, то исходный ориентированный граф является слабосвязанным."
   ]
  },
  {
   "cell_type": "markdown",
   "id": "a9e38a1b-f8a6-40f5-9b20-a3c6e5bf1ba1",
   "metadata": {},
   "source": [
    "### Реализация графа"
   ]
  },
  {
   "cell_type": "markdown",
   "id": "e617ec67-2a46-46f0-8178-b19d7155672a",
   "metadata": {},
   "source": [
    "Вы можете построить объекты Vertex и Edge для представления графов, если вы используете ООП."
   ]
  },
  {
   "cell_type": "code",
   "execution_count": 2,
   "id": "d75fedfd-01d1-47e2-bd6c-3c8d584cdc2f",
   "metadata": {
    "tags": []
   },
   "outputs": [],
   "source": [
    "# edge list graph representation example\n",
    "edge_list_graph = [[0, 1], [1, 2],\n",
    "                   [1, 3], [2, 3]]"
   ]
  },
  {
   "cell_type": "code",
   "execution_count": 5,
   "id": "b0c32418-ac02-4836-8116-e0651f4bb837",
   "metadata": {
    "tags": []
   },
   "outputs": [],
   "source": [
    "# adjacency list graph representation example\n",
    "adjacency_list_graph = [[1], [0, 2, 3],\n",
    "                        [1, 3], [1, 2]]\n",
    "# here we use index in a list as an id number of verices in a graph"
   ]
  },
  {
   "cell_type": "code",
   "execution_count": 6,
   "id": "6b427db3-267f-44b2-b635-186a8bd6a70f",
   "metadata": {
    "tags": []
   },
   "outputs": [],
   "source": [
    "# another way to represent a graph is an adjacency matrix\n",
    "adjacency_matrix_graph = [[0, 1, 0, 0],\n",
    "                          [1, 0, 1, 1],\n",
    "                          [0, 1, 0, 1],\n",
    "                          [0, 1, 1, 0]]\n",
    "# node id has its own slot in each subarray, \n",
    "# where subarray values act like a flag\n",
    "# to show whether this node connected to another node or not"
   ]
  },
  {
   "cell_type": "markdown",
   "id": "66709e23-ca01-4ea4-9395-e74574787b82",
   "metadata": {},
   "source": [
    "#### Граф\n",
    "\n"
   ]
  },
  {
   "cell_type": "code",
   "execution_count": 7,
   "id": "0c979eb0-7591-4d3b-8e52-b96fd80855a7",
   "metadata": {
    "tags": []
   },
   "outputs": [
    {
     "name": "stdout",
     "output_type": "stream",
     "text": [
      "[(100, 1, 2), (101, 1, 3), (102, 1, 4), (103, 3, 4)]\n",
      "[None, [(2, 100), (3, 101), (4, 102)], None, [(4, 103)], None]\n",
      "[[0, 0, 0, 0, 0], [0, 0, 100, 101, 102], [0, 0, 0, 0, 0], [0, 0, 0, 0, 103], [0, 0, 0, 0, 0]]\n"
     ]
    }
   ],
   "source": [
    "class Node:\n",
    "    def __init__(self, value):\n",
    "        self.value = value\n",
    "        self.edges = []\n",
    "\n",
    "class Edge:\n",
    "    def __init__(self, value, node_from, node_to):\n",
    "        self.value = value\n",
    "        self.node_from = node_from\n",
    "        self.node_to = node_to\n",
    "\n",
    "class Graph:\n",
    "    def __init__(self, nodes=None, edges=None):\n",
    "        self.nodes = nodes or []\n",
    "        self.edges = edges or []\n",
    "\n",
    "    def insert_node(self, new_node_val):\n",
    "        new_node = Node(new_node_val)\n",
    "        self.nodes.append(new_node)\n",
    "        \n",
    "    def insert_edge(self, new_edge_val, node_from_val, node_to_val):\n",
    "        # Find nodes connected to the edge\n",
    "        from_found = None\n",
    "        to_found = None\n",
    "        for node in self.nodes:\n",
    "            if node_from_val == node.value:\n",
    "                from_found = node\n",
    "            if node_to_val == node.value:\n",
    "                to_found = node\n",
    "        # If one or both nodes were not found, create new nodes\n",
    "        if from_found is None:\n",
    "            from_found = Node(node_from_val)\n",
    "            self.nodes.append(from_found)\n",
    "        if to_found is None:\n",
    "            to_found = Node(node_to_val)\n",
    "            self.nodes.append(to_found)\n",
    "        # Create new edge\n",
    "        new_edge = Edge(new_edge_val, from_found, to_found)\n",
    "        from_found.edges.append(new_edge)\n",
    "        to_found.edges.append(new_edge)\n",
    "        self.edges.append(new_edge)\n",
    "\n",
    "    def get_edge_list(self):\n",
    "        \"\"\"\n",
    "        Returns a list of tuples representing edges as\n",
    "        (Edge Value, From Node Value, To Node Value)\n",
    "        \"\"\"\n",
    "        return [(edge.value, edge.node_from.value, edge.node_to.value)\n",
    "                for edge in self.edges]\n",
    "\n",
    "    def get_adjacency_list(self):\n",
    "        \"\"\"\n",
    "        Returns a list of lists representing adjacency list.\n",
    "        The index of the outer list represents \"from\" nodes,\n",
    "        each element in the outer list is a list of tuples.\n",
    "        Each tuple represents (To Node, Edge Value).\n",
    "        \"\"\"\n",
    "        max_index = self.find_max_index()\n",
    "        adjacency_list = [None] * (max_index + 1)\n",
    "        for edge in self.edges:\n",
    "            if adjacency_list[edge.node_from.value]:\n",
    "                adjacency_list[edge.node_from.value].append((edge.node_to.value, edge.value))\n",
    "            else:\n",
    "                adjacency_list[edge.node_from.value] = [(edge.node_to.value, edge.value)]\n",
    "        return adjacency_list\n",
    "    \n",
    "    def find_max_index(self):\n",
    "        max_index = -1\n",
    "        if len(self.nodes):\n",
    "            for node in self.nodes:\n",
    "                if node.value > max_index:\n",
    "                    max_index = node.value\n",
    "        return max_index\n",
    "    \n",
    "    def get_adjacency_matrix(self):\n",
    "        \"\"\"\n",
    "        Returns a matrix, or 2D list representing adjacency matrix.\n",
    "        Row numbers represent from nodes, column numbers represent to nodes.\n",
    "        Store the edge values in each spot, and a 0 if no edge exists.\n",
    "        \"\"\"\n",
    "        max_index = self.find_max_index()\n",
    "        adjacency_matrix = [[0] * (max_index + 1) for _ in range(max_index + 1)]\n",
    "        for edge in self.edges:\n",
    "            adjacency_matrix[edge.node_from.value][edge.node_to.value] = edge.value\n",
    "        return adjacency_matrix\n",
    "\n",
    "    \n",
    "graph = Graph()\n",
    "graph.insert_edge(100, 1, 2)\n",
    "graph.insert_edge(101, 1, 3)\n",
    "graph.insert_edge(102, 1, 4)\n",
    "graph.insert_edge(103, 3, 4)\n",
    "# Should be [(100, 1, 2), (101, 1, 3), (102, 1, 4), (103, 3, 4)]\n",
    "print(graph.get_edge_list())\n",
    "# Should be [None, [(2, 100), (3, 101), (4, 102)], None, [(4, 103)], None]\n",
    "print(graph.get_adjacency_list())\n",
    "# Should be [[0, 0, 0, 0, 0], [0, 0, 100, 101, 102], [0, 0, 0, 0, 0], [0, 0, 0, 0, 103], [0, 0, 0, 0, 0]]\n",
    "print(graph.get_adjacency_matrix())"
   ]
  },
  {
   "cell_type": "markdown",
   "id": "cba70d10-6aa8-49db-a53a-8aeacac55a72",
   "metadata": {},
   "source": [
    "### Обход графа"
   ]
  },
  {
   "cell_type": "markdown",
   "id": "fb6c3d4a-b77f-4f37-833d-dc787d01236a",
   "metadata": {},
   "source": [
    "У нас есть два основных метода обхода графиков:\n",
    "- поиск в глубину (DFS), при котором мы следуем по одному пути, насколько это возможно\n",
    "- поиск в ширину (BFS), при котором мы просматриваем все узлы, примыкающие к одному, прежде чем перейти на следующий уровень"
   ]
  },
  {
   "cell_type": "markdown",
   "id": "b78fb8ff-2e0d-4e9c-a25a-be25990f8de8",
   "metadata": {},
   "source": [
    "Обход графиков и поиск по графикам в основном одинаковы, за исключением того, что при поиске вы завершаете поиск, когда нашли искомый элемент, а при обходе вы просматриваете весь график целиком."
   ]
  },
  {
   "cell_type": "markdown",
   "id": "51ede707-7f46-4bfe-a027-a7b67211e560",
   "metadata": {},
   "source": [
    "### DFS"
   ]
  },
  {
   "cell_type": "markdown",
   "id": "0d4a1dc8-d392-4496-ac12-7e7070db71eb",
   "metadata": {},
   "source": [
    "Реализация DFS:\n",
    "- нет очевидного места для начала\n",
    "- вы можете начать с любого узла\n",
    "- отметьте первый выбранный узел как видимый\n",
    "- распространенная реализация DFS использует стек, поэтому мы можем сохранить узел, который мы только что видели, в стеке\n",
    "- затем вы выбираете ребро, следуете за ним, отмечаете этот узел как видимый и добавляете его в стек\n",
    "- пока есть больше ребер и невидимых узлов, повторяйте процесс\n",
    "- когда вы попадете на узел, который вы видели раньше, просто вернитесь к предыдущему узлу и попробуйте другое ребро\n",
    "- если у вас заканчиваются ребра с новыми узлами, вы извлекаете текущий узел из стека и возвращаетесь к предыдущему, который является просто следующим в стеке \n",
    "- вы продолжаете использовать этот подход, пока не удалите все ребра из стека или не найдете узел, который изначально искали"
   ]
  },
  {
   "cell_type": "markdown",
   "id": "e9e05fca-83d4-4aaf-aff9-41a5fbf7c00d",
   "metadata": {},
   "source": [
    "Существует еще одна распространенная реализация DFS, которая использует рекурсию и не использует стек:\n",
    "- вы просто повторяете тот же процесс выбора ребра и пометки узла как видимого, пока у вас не закончатся новые узлы для изучения \n",
    "- это становится базовым вариантом, и вы возвращаетесь к последнему уровню рекурсии, который оказывается предыдущим узлом в поиске"
   ]
  },
  {
   "cell_type": "markdown",
   "id": "7c5288d6-d653-4b9e-b08c-32232c98710a",
   "metadata": {},
   "source": [
    "Временная сложность DFS, или поиска в глубину, часто записывается как O(V + E), что означает количество вершин плюс количество ребер. Это означает, что время, необходимое для завершения DFS, пропорционально количеству вершин и ребер в графе."
   ]
  },
  {
   "cell_type": "markdown",
   "id": "ebcd2904-b6f9-46a2-80b6-76dadbd34f71",
   "metadata": {},
   "source": [
    "### BFS"
   ]
  },
  {
   "cell_type": "markdown",
   "id": "a6909f41-5288-4d02-b2c0-d757c002680b",
   "metadata": {},
   "source": [
    "Реализация BFS:\n",
    "- вы просматриваете каждое ребро и помечаете каждый узел как видимый\n",
    "- вы просматриваете каждое ребро одного узла, прежде чем продолжить просмотр графика\n",
    "- здесь мы используем структуру данных очереди вместо стека\n",
    "- вы добавляете видимые узлы в очередь\n",
    "- когда у нас заканчиваются ребра, мы удаляем узел из очереди и используем его в качестве следующей отправной точки\n",
    "- вы продолжаете этот подход, пока не найдете элемент, который искали, или пока не посетите все узлы на графике (помеченные как видимые)."
   ]
  },
  {
   "cell_type": "markdown",
   "id": "d1acf342-0040-40f4-ba69-00fa54817c0c",
   "metadata": {},
   "source": [
    "Временная сложность BFS, или поиска в ширину, равна O(V + E)."
   ]
  },
  {
   "cell_type": "markdown",
   "id": "73b0480f-1dfd-47db-a966-5472a8015040",
   "metadata": {},
   "source": [
    "### Граф 2.0"
   ]
  },
  {
   "cell_type": "code",
   "execution_count": 14,
   "id": "bd9f1c50-9f0d-4659-b3af-b2e97521e250",
   "metadata": {
    "tags": []
   },
   "outputs": [
    {
     "name": "stdout",
     "output_type": "stream",
     "text": [
      "Edge List\n",
      "[ (51, 'Mountain View', 'San Francisco'),\n",
      "  (51, 'San Francisco', 'Mountain View'),\n",
      "  (9950, 'Mountain View', 'Shanghai'),\n",
      "  (9950, 'Shanghai', 'Mountain View'),\n",
      "  (10375, 'Mountain View', 'Sao Paolo'),\n",
      "  (10375, 'Sao Paolo', 'Mountain View'),\n",
      "  (9900, 'San Francisco', 'Shanghai'),\n",
      "  (9900, 'Shanghai', 'San Francisco'),\n",
      "  (9130, 'San Francisco', 'Berlin'),\n",
      "  (9130, 'Berlin', 'San Francisco'),\n",
      "  (9217, 'London', 'Shanghai'),\n",
      "  (9217, 'Shanghai', 'London'),\n",
      "  (932, 'London', 'Berlin'),\n",
      "  (932, 'Berlin', 'London'),\n",
      "  (9471, 'London', 'Sao Paolo'),\n",
      "  (9471, 'Sao Paolo', 'London')]\n",
      "\n",
      "Adjacency List\n",
      "[ <map object at 0x7f2ecc2abd10>,\n",
      "  <map object at 0x7f2ecc2abdd0>,\n",
      "  <map object at 0x7f2ecc2abe90>,\n",
      "  <map object at 0x7f2ecc2abf50>,\n",
      "  <map object at 0x7f2ecc295050>,\n",
      "  <map object at 0x7f2ecc295150>,\n",
      "  None]\n",
      "\n",
      "Adjacency Matrix\n",
      "[ [0, 51, 0, 9950, 0, 10375, 0],\n",
      "  [51, 0, 0, 9900, 9130, 0, 0],\n",
      "  [0, 0, 0, 9217, 932, 9471, 0],\n",
      "  [9950, 9900, 9217, 0, 0, 0, 0],\n",
      "  [0, 9130, 932, 0, 0, 0, 0],\n",
      "  [10375, 0, 9471, 0, 0, 0, 0],\n",
      "  [0, 0, 0, 0, 0, 0, 0]]\n",
      "\n",
      "Depth First Search\n",
      "['London', 'Shanghai', 'Mountain View', 'San Francisco', 'Berlin', 'Sao Paolo']\n",
      "\n",
      "Breadth First Search\n",
      "['London', 'Shanghai', 'Berlin', 'Sao Paolo', 'Mountain View', 'San Francisco']\n"
     ]
    }
   ],
   "source": [
    "class Node(object):\n",
    "    def __init__(self, value):\n",
    "        self.value = value\n",
    "        self.edges = []\n",
    "        self.visited = False\n",
    "\n",
    "class Edge(object):\n",
    "    def __init__(self, value, node_from, node_to):\n",
    "        self.value = value\n",
    "        self.node_from = node_from\n",
    "        self.node_to = node_to\n",
    "\n",
    "class Graph(object):\n",
    "    def __init__(self, nodes=None, edges=None):\n",
    "        self.nodes = nodes or []\n",
    "        self.edges = edges or []\n",
    "        self.node_names = []\n",
    "        self._node_map = {}\n",
    "\n",
    "    def set_node_names(self, names):\n",
    "        \"\"\"The Nth name in names should correspond to node number N.\n",
    "        Node numbers are 0 based (starting at 0).\n",
    "        \"\"\"\n",
    "        self.node_names = list(names)\n",
    "\n",
    "    def insert_node(self, new_node_val):\n",
    "        \"Insert a new node with value new_node_val\"\n",
    "        new_node = Node(new_node_val)\n",
    "        self.nodes.append(new_node)\n",
    "        self._node_map[new_node_val] = new_node\n",
    "        return new_node\n",
    "\n",
    "    def insert_edge(self, new_edge_val, node_from_val, node_to_val):\n",
    "        \"Insert a new edge, creating new nodes if necessary\"\n",
    "        nodes = {node_from_val: None, node_to_val: None}\n",
    "        for node in self.nodes:\n",
    "            if node.value in nodes:\n",
    "                nodes[node.value] = node\n",
    "                if all(nodes.values()):\n",
    "                    break\n",
    "        for node_val in nodes:\n",
    "            nodes[node_val] = nodes[node_val] or self.insert_node(node_val)\n",
    "        node_from = nodes[node_from_val]\n",
    "        node_to = nodes[node_to_val]\n",
    "        new_edge = Edge(new_edge_val, node_from, node_to)\n",
    "        node_from.edges.append(new_edge)\n",
    "        node_to.edges.append(new_edge)\n",
    "        self.edges.append(new_edge)\n",
    "\n",
    "    def get_edge_list(self):\n",
    "        \"\"\"Return a list of triples that looks like this:\n",
    "        (Edge Value, From Node, To Node)\"\"\"\n",
    "        return [(e.value, e.node_from.value, e.node_to.value)\n",
    "                for e in self.edges]\n",
    "\n",
    "    def get_edge_list_names(self):\n",
    "        \"\"\"Return a list of triples that looks like this:\n",
    "        (Edge Value, From Node Name, To Node Name)\"\"\"\n",
    "        return [(edge.value,\n",
    "                 self.node_names[edge.node_from.value],\n",
    "                 self.node_names[edge.node_to.value])\n",
    "                for edge in self.edges]\n",
    "\n",
    "    def get_adjacency_list(self):\n",
    "        \"\"\"Return a list of lists.\n",
    "        The indecies of the outer list represent \"from\" nodes.\n",
    "        Each section in the list will store a list\n",
    "        of tuples that looks like this:\n",
    "        (To Node, Edge Value)\"\"\"\n",
    "        max_index = self.find_max_index()\n",
    "        adjacency_list = [[] for _ in range(max_index)]\n",
    "        for edg in self.edges:\n",
    "            from_value, to_value = edg.node_from.value, edg.node_to.value\n",
    "            adjacency_list[from_value].append((to_value, edg.value))\n",
    "        return [a or None for a in adjacency_list] # replace []'s with None\n",
    "\n",
    "    def get_adjacency_list_names(self):\n",
    "        \"\"\"Each section in the list will store a list\n",
    "        of tuples that looks like this:\n",
    "        (To Node Name, Edge Value).\n",
    "        Node names should come from the names set\n",
    "        with set_node_names.\"\"\"\n",
    "        adjacency_list = self.get_adjacency_list()\n",
    "        def convert_to_names(pair, graph=self):\n",
    "            node_number, value = pair\n",
    "            return (graph.node_names[node_number], value)\n",
    "        def map_conversion(adjacency_list_for_node):\n",
    "            if adjacency_list_for_node is None:\n",
    "                return None\n",
    "            return map(convert_to_names, adjacency_list_for_node)\n",
    "        return [map_conversion(adjacency_list_for_node)\n",
    "                for adjacency_list_for_node in adjacency_list]\n",
    "\n",
    "    def get_adjacency_matrix(self):\n",
    "        \"\"\"Return a matrix, or 2D list.\n",
    "        Row numbers represent from nodes,\n",
    "        column numbers represent to nodes.\n",
    "        Store the edge values in each spot,\n",
    "        and a 0 if no edge exists.\"\"\"\n",
    "        max_index = self.find_max_index()\n",
    "        adjacency_matrix = [[0] * (max_index) for _ in range(max_index)]\n",
    "        for edg in self.edges:\n",
    "            from_index, to_index = edg.node_from.value, edg.node_to.value\n",
    "            adjacency_matrix[from_index][to_index] = edg.value\n",
    "        return adjacency_matrix\n",
    "\n",
    "    def find_max_index(self):\n",
    "        \"\"\"Return the highest found node number\n",
    "        Or the length of the node names if set with set_node_names().\"\"\"\n",
    "        if len(self.node_names) > 0:\n",
    "            return len(self.node_names)\n",
    "        max_index = -1\n",
    "        if len(self.nodes):\n",
    "            for node in self.nodes:\n",
    "                if node.value > max_index:\n",
    "                    max_index = node.value\n",
    "        return max_index\n",
    "\n",
    "    def find_node(self, node_number):\n",
    "        \"Return the node with value node_number or None\"\n",
    "        return self._node_map.get(node_number)\n",
    "    \n",
    "    def _clear_visited(self):\n",
    "        for node in self.nodes:\n",
    "            node.visited = False\n",
    "\n",
    "    def dfs_helper(self, start_node):\n",
    "        \"\"\"TODO: Write the helper function for a recursive implementation\n",
    "        of Depth First Search iterating through a node's edges. The\n",
    "        output should be a list of numbers corresponding to the\n",
    "        values of the traversed nodes.\n",
    "        ARGUMENTS: start_node is the starting Node\n",
    "        MODIFIES: the value of the visited property of nodes in self.nodes \n",
    "        RETURN: a list of the traversed node values (integers).\n",
    "        \"\"\"\n",
    "        ret_list = [start_node.value]\n",
    "        # Your code here\n",
    "        start_node.visited = True\n",
    "        adjacent_edges = [e for e in start_node.edges \\\n",
    "                            if e.node_to.value != start_node.value]\n",
    "        for edge in adjacent_edges:\n",
    "            if not edge.node_to.visited:\n",
    "                ret_list.extend(self.dfs_helper(edge.node_to))\n",
    "        return ret_list\n",
    "\n",
    "    def dfs(self, start_node_num):\n",
    "        \"\"\"Outputs a list of numbers corresponding to the traversed nodes\n",
    "        in a Depth First Search.\n",
    "        ARGUMENTS: start_node_num is the starting node number (integer)\n",
    "        MODIFIES: the value of the visited property of nodes in self.nodes\n",
    "        RETURN: a list of the node values (integers).\"\"\"\n",
    "        self._clear_visited()\n",
    "        start_node = self.find_node(start_node_num)\n",
    "        return self.dfs_helper(start_node)\n",
    "\n",
    "    def dfs_names(self, start_node_num):\n",
    "        \"\"\"Return the results of dfs with numbers converted to names.\"\"\"\n",
    "        return [self.node_names[num] for num in self.dfs(start_node_num)]\n",
    "\n",
    "    def bfs(self, start_node_num):\n",
    "        \"\"\"TODO: Create an iterative implementation of Breadth First Search\n",
    "        iterating through a node's edges. The output should be a list of\n",
    "        numbers corresponding to the traversed nodes.\n",
    "        ARGUMENTS: start_node_num is the node number (integer)\n",
    "        MODIFIES: the value of the visited property of nodes in self.nodes\n",
    "        RETURN: a list of the node values (integers).\"\"\"\n",
    "        node = self.find_node(start_node_num)\n",
    "        self._clear_visited()\n",
    "        ret_list = []\n",
    "        # Your code here\n",
    "        node.visited = True\n",
    "        q = [node] # just pop(0) and its a queue\n",
    "        while q: # not empty\n",
    "            node = q.pop(0)\n",
    "            ret_list.append(node.value)\n",
    "            for edge in node.edges:\n",
    "                if not edge.node_to.visited:\n",
    "                    edge.node_to.visited = True\n",
    "                    q.append(edge.node_to)\n",
    "        return ret_list\n",
    "\n",
    "    def bfs_names(self, start_node_num):\n",
    "        \"\"\"Return the results of bfs with numbers converted to names.\"\"\"\n",
    "        return [self.node_names[num] for num in self.bfs(start_node_num)]\n",
    "\n",
    "graph = Graph()\n",
    "\n",
    "# You do not need to change anything below this line.\n",
    "# You only need to implement Graph.dfs_helper and Graph.bfs\n",
    "\n",
    "graph.set_node_names(('Mountain View',   # 0\n",
    "                      'San Francisco',   # 1\n",
    "                      'London',          # 2\n",
    "                      'Shanghai',        # 3\n",
    "                      'Berlin',          # 4\n",
    "                      'Sao Paolo',       # 5\n",
    "                      'Bangalore'))      # 6 \n",
    "\n",
    "graph.insert_edge(51, 0, 1)     # MV <-> SF\n",
    "graph.insert_edge(51, 1, 0)     # SF <-> MV\n",
    "graph.insert_edge(9950, 0, 3)   # MV <-> Shanghai\n",
    "graph.insert_edge(9950, 3, 0)   # Shanghai <-> MV\n",
    "graph.insert_edge(10375, 0, 5)  # MV <-> Sao Paolo\n",
    "graph.insert_edge(10375, 5, 0)  # Sao Paolo <-> MV\n",
    "graph.insert_edge(9900, 1, 3)   # SF <-> Shanghai\n",
    "graph.insert_edge(9900, 3, 1)   # Shanghai <-> SF\n",
    "graph.insert_edge(9130, 1, 4)   # SF <-> Berlin\n",
    "graph.insert_edge(9130, 4, 1)   # Berlin <-> SF\n",
    "graph.insert_edge(9217, 2, 3)   # London <-> Shanghai\n",
    "graph.insert_edge(9217, 3, 2)   # Shanghai <-> London\n",
    "graph.insert_edge(932, 2, 4)    # London <-> Berlin\n",
    "graph.insert_edge(932, 4, 2)    # Berlin <-> London\n",
    "graph.insert_edge(9471, 2, 5)   # London <-> Sao Paolo\n",
    "graph.insert_edge(9471, 5, 2)   # Sao Paolo <-> London\n",
    "# (6) 'Bangalore' is intentionally disconnected (no edges)\n",
    "# for this problem and should produce None in the\n",
    "# Adjacency List, etc.\n",
    "\n",
    "import pprint\n",
    "pp = pprint.PrettyPrinter(indent=2)\n",
    "\n",
    "print(\"Edge List\")\n",
    "pp.pprint(graph.get_edge_list_names())\n",
    "\n",
    "print(\"\\nAdjacency List\")\n",
    "pp.pprint(graph.get_adjacency_list_names())\n",
    "\n",
    "print(\"\\nAdjacency Matrix\")\n",
    "pp.pprint(graph.get_adjacency_matrix())\n",
    "\n",
    "print(\"\\nDepth First Search\")\n",
    "pp.pprint(graph.dfs_names(2))\n",
    "\n",
    "# Should print:\n",
    "# Depth First Search\n",
    "# ['London', 'Shanghai', 'Mountain View', 'San Francisco', 'Berlin', 'Sao Paolo']\n",
    "\n",
    "print(\"\\nBreadth First Search\")\n",
    "pp.pprint(graph.bfs_names(2))\n",
    "# test error reporting\n",
    "# pp.pprint(['Sao Paolo', 'Mountain View', 'San Francisco', 'London', 'Shanghai', 'Berlin'])\n",
    "\n",
    "# Should print:\n",
    "# Breadth First Search\n",
    "# ['London', 'Shanghai', 'Berlin', 'Sao Paolo', 'Mountain View', 'San Francisco']"
   ]
  }
 ],
 "metadata": {
  "kernelspec": {
   "display_name": "Python 3 (ipykernel)",
   "language": "python",
   "name": "python3"
  },
  "language_info": {
   "codemirror_mode": {
    "name": "ipython",
    "version": 3
   },
   "file_extension": ".py",
   "mimetype": "text/x-python",
   "name": "python",
   "nbconvert_exporter": "python",
   "pygments_lexer": "ipython3",
   "version": "3.7.11"
  }
 },
 "nbformat": 4,
 "nbformat_minor": 5
}
