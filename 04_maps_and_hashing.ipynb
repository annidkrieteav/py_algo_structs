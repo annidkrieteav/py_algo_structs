{
 "cells": [
  {
   "cell_type": "markdown",
   "id": "9ec91368-53c8-4317-bf12-e21995bfec83",
   "metadata": {},
   "source": [
    "## 4. Маппинг и хеширование"
   ]
  },
  {
   "cell_type": "markdown",
   "id": "0bf9b8d2-b9fa-41d3-a755-1783fb823734",
   "metadata": {},
   "source": [
    "### Sets and Maps"
   ]
  },
  {
   "cell_type": "markdown",
   "id": "3050c303-0ab6-4cdb-93f0-44cc22c9b254",
   "metadata": {},
   "source": [
    "Определяющей характеристикой карты является ее структура \"ключ-значение\".  \n",
    "Фактически словарь в Computer Science - это карта. "
   ]
  },
  {
   "cell_type": "markdown",
   "id": "7382fa47-2abd-48e6-8f58-41e84f5f5a71",
   "metadata": {},
   "source": [
    "Set - структура данных, сравнимая со списком. Самое большое отличие заключается в том, что список имеет определенный порядок элементов, в то время как set - это неупорядоченная структура данных. Также наборы не допускают повторения элементов."
   ]
  },
  {
   "cell_type": "markdown",
   "id": "c7d888d0-b68d-46cf-b29b-ed52f3d92583",
   "metadata": {},
   "source": [
    "Наборы в Python изменяемы. Это означает, что вы можете добавлять или удалять элементы из набора.   \n",
    "Однако важно отметить, что, хотя сам набор может быть изменен, элементы, содержащиеся в наборе, должны быть неизменяемого типа."
   ]
  },
  {
   "cell_type": "markdown",
   "id": "960e8e14-afd7-462e-8cb3-65f02c6d24e7",
   "metadata": {},
   "source": [
    "#### Task 1. "
   ]
  },
  {
   "cell_type": "code",
   "execution_count": 1,
   "id": "67547f62-6816-4570-ad2a-8c3c4c83d842",
   "metadata": {
    "tags": []
   },
   "outputs": [
    {
     "name": "stdout",
     "output_type": "stream",
     "text": [
      "1\n",
      "Atlanta\n",
      "Mountain View\n",
      "2\n",
      "Bangalore - India\n",
      "Shanghai - China\n"
     ]
    }
   ],
   "source": [
    "locations = {'North America': {'USA': ['Mountain View']}}\n",
    "\n",
    "cities_to_add = ['Bangalore (India, Asia)',\n",
    "                 'Atlanta (USA, North America)',\n",
    "                 'Cairo (Egypt, Africa)',\n",
    "                 'Shanghai (China, Asia)']\n",
    "\n",
    "\n",
    "# helper function to unfold a sublist in a list\n",
    "def unfold(lst):\n",
    "    ans = []\n",
    "    for i in lst:\n",
    "        if type(i) != list:\n",
    "            ans.append(i)\n",
    "        else:\n",
    "            ans.extend(i)\n",
    "    return ans\n",
    "\n",
    "# adding data to our dictionary\n",
    "for city in cities_to_add:\n",
    "    city = city.split(', ')\n",
    "    city[0] = city[0].replace('(', '').replace(',', '').split(' ')\n",
    "    city[1] = city[1].replace(')', '')\n",
    "    city = unfold(city)\n",
    "    if city[2] in locations:\n",
    "        if city[1] in locations[city[2]]:\n",
    "            locations[city[2]][city[1]].append(city[0])\n",
    "        else:\n",
    "            locations[city[2]][city[1]] = [city[0]]\n",
    "    else:\n",
    "        locations[city[2]] = {city[1]: [city[0]]}\n",
    "\n",
    "\n",
    "# Print a list of all cities in the USA in alphabetic order.\n",
    "for k, v in locations.items():\n",
    "    if k == 'North America' and 'USA' in v:\n",
    "        for country, cities in v.items():\n",
    "            if country == 'USA':\n",
    "                print(1, *sorted(cities), sep='\\n')\n",
    "            \n",
    "            \n",
    "# Print all cities in Asia, in alphabetic order, next to the name of the country\n",
    "for k, v in locations.items():\n",
    "    if k == 'Asia':\n",
    "        ans = []\n",
    "        for country, cities in v.items():\n",
    "            for c in cities:\n",
    "                to_add = c + ' - ' + country\n",
    "                ans.append(to_add)\n",
    "print(2, *sorted(ans), sep='\\n')"
   ]
  },
  {
   "cell_type": "markdown",
   "id": "844f93c1-15fb-4fa2-8391-50c37e1a6587",
   "metadata": {},
   "source": [
    "### Хэшироваие"
   ]
  },
  {
   "cell_type": "markdown",
   "id": "cadbd9b4-f581-4c45-b328-615c96d4b3ff",
   "metadata": {},
   "source": [
    "Использование структуры данных, использующей хэш-функцию, позволяет выполнять поиск за постоянное время. Все остальные структуры данных, которые мы изучили до сих пор, позволяют выполнять поиск за O(n)."
   ]
  },
  {
   "cell_type": "markdown",
   "id": "0a86ef0a-ba23-44f1-b3ff-9ae76ea7f3d0",
   "metadata": {},
   "source": [
    "Хэш-функции преобразуют некоторое значение в хэш-функцию и получают хэш-значение.  \n",
    "\n",
    "Обычно мы используем деление на 10 в качестве хэш-функции и остаток в качестве хэш-значения.  \n",
    "\n",
    "Значение хэша будет действовать как индекс в массиве, где мы будем хранить наши исходные значения. И мы можем искать элемент по его индексу в течение постоянного времени."
   ]
  },
  {
   "cell_type": "markdown",
   "id": "03567d44-8912-4416-942a-3cbf74bb3eb7",
   "metadata": {},
   "source": [
    "### Коллизия"
   ]
  },
  {
   "cell_type": "markdown",
   "id": "a6728642-9ec9-44d8-85f5-41f84cafb2b9",
   "metadata": {},
   "source": [
    "Коллизия возникает, когда два разных значения имеют одинаковое хэш-значение.  \n",
    "\n",
    "Существует два основных метода борьбы с коллизиями:\n",
    "- измените хэш-функцию, чтобы после нее остатки были другими\n",
    "- измените структуру вашего массива и вместо того, чтобы хранить отдельные значения в каждой ячейке, вы можете хранить список значений (коллекцию) с одинаковым хэш-номером в каждой ячейке (корзине).    \n",
    "\n",
    "Первый вариант займет много дополнительного места, но по-прежнему будет иметь постоянную сложность во времени поиска.  \n",
    "\n",
    "Обычно используется второй вариант. И в худшем случае временная сложность будет равна O(m), где m - длина коллекции в корзине."
   ]
  },
  {
   "cell_type": "markdown",
   "id": "a9e38a1b-f8a6-40f5-9b20-a3c6e5bf1ba1",
   "metadata": {},
   "source": [
    "### Хеш таблицы"
   ]
  },
  {
   "cell_type": "code",
   "execution_count": 2,
   "id": "c5bf5217-e36a-4e85-9a6b-67e2bb477285",
   "metadata": {
    "tags": []
   },
   "outputs": [
    {
     "name": "stdout",
     "output_type": "stream",
     "text": [
      "8568\n",
      "-1\n",
      "8568\n",
      "8568\n"
     ]
    }
   ],
   "source": [
    "class HashTable:\n",
    "    def __init__(self):\n",
    "        self.table = [None]*10000\n",
    "    \n",
    "    def calculate_hash_value(self, string):\n",
    "        \"\"\"Helper function to calculate a hash value from a string.\"\"\"\n",
    "        hash_value = ord(string[0]) * 100 + ord(string[1])\n",
    "        return hash_value\n",
    "    \n",
    "    def store(self, string):\n",
    "        \"\"\"Input a string that's stored in the table.\"\"\"\n",
    "        hash_value = self.calculate_hash_value(string)\n",
    "        if self.table[hash_value] is not None:\n",
    "            self.table[hash_value].append(string)\n",
    "        else:\n",
    "            self.table[hash_value] = [string]\n",
    "    \n",
    "    def lookup(self, string):\n",
    "        \"\"\"Return the hash value if the string is already in the table. Return -1 otherwise.\"\"\"\n",
    "        hash_value = self.calculate_hash_value(string)\n",
    "        if self.table[hash_value] is not None:\n",
    "            if string in self.table[hash_value]:\n",
    "                return hash_value\n",
    "        return -1\n",
    "    \n",
    "    \n",
    "# Setup\n",
    "hash_table = HashTable()\n",
    "\n",
    "# Test calculate_hash_value\n",
    "# Should be 8568\n",
    "print(hash_table.calculate_hash_value('UDACITY'))\n",
    "\n",
    "# Test lookup edge case\n",
    "# Should be -1\n",
    "print(hash_table.lookup('UDACITY'))\n",
    "\n",
    "# Test store\n",
    "hash_table.store('UDACITY')\n",
    "# Should be 8568\n",
    "print(hash_table.lookup('UDACITY'))\n",
    "\n",
    "# Test store edge case\n",
    "hash_table.store('UDACIOUS')\n",
    "# Should be 8568\n",
    "print(hash_table.lookup('UDACIOUS'))\n"
   ]
  }
 ],
 "metadata": {
  "kernelspec": {
   "display_name": "Python 3 (ipykernel)",
   "language": "python",
   "name": "python3"
  },
  "language_info": {
   "codemirror_mode": {
    "name": "ipython",
    "version": 3
   },
   "file_extension": ".py",
   "mimetype": "text/x-python",
   "name": "python",
   "nbconvert_exporter": "python",
   "pygments_lexer": "ipython3",
   "version": "3.11.7"
  }
 },
 "nbformat": 4,
 "nbformat_minor": 5
}
