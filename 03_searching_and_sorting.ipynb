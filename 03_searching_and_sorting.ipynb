{
 "cells": [
  {
   "cell_type": "markdown",
   "id": "1bd033e2-38eb-4d9d-83b5-3fe493446ae3",
   "metadata": {},
   "source": [
    "# Intro to Data Structures and Algorithms "
   ]
  },
  {
   "cell_type": "markdown",
   "id": "b8678bae-32c2-4dfd-b915-f6c6b22b9e26",
   "metadata": {
    "tags": []
   },
   "source": [
    "[course link](https://learn.udacity.com/courses/ud513)"
   ]
  },
  {
   "cell_type": "markdown",
   "id": "9ec91368-53c8-4317-bf12-e21995bfec83",
   "metadata": {},
   "source": [
    "## 3. Поиск и сортировка"
   ]
  },
  {
   "cell_type": "markdown",
   "id": "0bf9b8d2-b9fa-41d3-a755-1783fb823734",
   "metadata": {},
   "source": [
    "### Бинарный поиск"
   ]
  },
  {
   "cell_type": "markdown",
   "id": "3050c303-0ab6-4cdb-93f0-44cc22c9b254",
   "metadata": {},
   "source": [
    "Бинарный поиск - это алгоритм поиска, который работает путем многократного деления интервала поиска пополам. Он начинается со сравнения среднего элемента массива с целевым значением. Если средний элемент равен целевому значению, поиск заканчивается. Если средний элемент больше целевого значения, поиск продолжается в нижней половине массива. Если средний элемент меньше целевого значения, поиск продолжается в верхней половине массива. Этот процесс повторяется до тех пор, пока не будет найдено целевое значение или пока интервал поиска не опустеет."
   ]
  },
  {
   "cell_type": "markdown",
   "id": "d65eac0d-daf8-4dd6-a295-06f48e8b29a9",
   "metadata": {},
   "source": [
    "Двоичный поиск - это эффективный алгоритм с наихудшей временной сложностью, равной O(log n), где n - размер входного массива. Он особенно полезен для больших массивов, где последовательный поиск неэффективен. Однако для этого требуется предварительная сортировка массива, что может привести к дополнительной временной сложности алгоритма."
   ]
  },
  {
   "cell_type": "code",
   "execution_count": 1,
   "id": "5f59c2c0-6570-4ff2-9d25-79d8380ca0aa",
   "metadata": {
    "tags": []
   },
   "outputs": [
    {
     "name": "stdout",
     "output_type": "stream",
     "text": [
      "-1\n",
      "4\n"
     ]
    }
   ],
   "source": [
    "def binary_search(input_array, value):\n",
    "    l = 0\n",
    "    r = len(input_array)\n",
    "    while l < r:\n",
    "        m = (l + r) // 2\n",
    "        if value == input_array[m]:\n",
    "            return m\n",
    "        elif value < input_array[m]:\n",
    "            r = m\n",
    "        else:\n",
    "            l = m + 1\n",
    "    return -1\n",
    "\n",
    "\n",
    "test_list = [1,3,9,11,15,19,29]\n",
    "test_val1 = 25\n",
    "test_val2 = 15\n",
    "print(binary_search(test_list, test_val1))\n",
    "print(binary_search(test_list, test_val2))"
   ]
  },
  {
   "cell_type": "markdown",
   "id": "960e8e14-afd7-462e-8cb3-65f02c6d24e7",
   "metadata": {},
   "source": [
    "### Рекурсия"
   ]
  },
  {
   "cell_type": "code",
   "execution_count": 2,
   "id": "1a975631-0179-494f-b12c-d12c2b3af805",
   "metadata": {
    "tags": []
   },
   "outputs": [
    {
     "name": "stdout",
     "output_type": "stream",
     "text": [
      "34\n",
      "89\n",
      "0\n"
     ]
    }
   ],
   "source": [
    "def get_fib(position):\n",
    "    if position == 0:\n",
    "        return 0\n",
    "    elif position == 1:\n",
    "        return 1\n",
    "    else:\n",
    "        return get_fib(position - 1) + get_fib(position - 2)\n",
    "\n",
    "\n",
    "# Test cases\n",
    "print(get_fib(9))\n",
    "print(get_fib(11))\n",
    "print(get_fib(0))"
   ]
  },
  {
   "cell_type": "markdown",
   "id": "03567d44-8912-4416-942a-3cbf74bb3eb7",
   "metadata": {},
   "source": [
    "### Сортировка пузырьком"
   ]
  },
  {
   "cell_type": "markdown",
   "id": "c4074f42-bee7-48ac-8ddc-227000d2bdc6",
   "metadata": {},
   "source": [
    "Это наивный алгоритм. Вы постоянно сравниваете два соседних элемента один за другим и переключаетесь, если один из них меньше другого.   \n",
    "\n",
    "На каждой итерации (при прохождении по всем элементам списка) самый большой элемент будет отображаться в конце массива.  \n",
    "\n",
    "При каждом проходе вы проводите n-1 сравнение."
   ]
  },
  {
   "cell_type": "markdown",
   "id": "09fb6d38-b0ec-4795-88a2-8eab270d4c5e",
   "metadata": {},
   "source": [
    "Сложность O(n^2)"
   ]
  },
  {
   "cell_type": "markdown",
   "id": "901a798c-7925-41ec-a57a-f84b58654824",
   "metadata": {},
   "source": [
    "Пузырьковая сортировка - это алгоритм сортировки по месту, поэтому сложность пространства постоянна O(1)."
   ]
  },
  {
   "cell_type": "code",
   "execution_count": 3,
   "id": "b6d6d0b5-64c8-4939-bc3c-fce9c5328460",
   "metadata": {
    "tags": []
   },
   "outputs": [
    {
     "data": {
      "text/plain": [
       "[0, 1, 2, 3, 98, 99]"
      ]
     },
     "execution_count": 3,
     "metadata": {},
     "output_type": "execute_result"
    }
   ],
   "source": [
    "def bubble_sort(lst):\n",
    "    cnt = len(lst)\n",
    "    while cnt > 0:\n",
    "        for i in range(1, len(lst)):\n",
    "            if lst[i - 1] > lst[i]:\n",
    "                lst[i - 1], lst[i] = lst[i], lst[i - 1]\n",
    "        cnt -= 1\n",
    "    return lst\n",
    "\n",
    "\n",
    "bubble_sort([99, 3, 2, 1, 0, 98])"
   ]
  },
  {
   "cell_type": "markdown",
   "id": "6b5ae682-71ee-4173-bfbd-ea34565b31e7",
   "metadata": {},
   "source": [
    "### Сортировкаа слиянием"
   ]
  },
  {
   "cell_type": "markdown",
   "id": "e674bcf5-31e7-4668-b755-1c2c290fea50",
   "metadata": {},
   "source": [
    "Сортировка слиянием основана на принципе \"Разделяй и властвуй\"."
   ]
  },
  {
   "cell_type": "markdown",
   "id": "84ba4dbb-83ff-4ec1-862f-c37456bc7d51",
   "metadata": {},
   "source": [
    "Сортировка слиянием - популярный алгоритм сортировки, который сортирует массив, разделяя его на две половины, рекурсивно сортируя каждую половину, а затем объединяя отсортированные половины обратно. Алгоритм работает путем многократного разделения несортированного списка на более мелкие подсписки, пока каждый подсписк не будет содержать только один элемент. Затем подсписки попарно объединяются, пока не будет получен окончательный отсортированный список.   \n",
    "\n",
    "Сортировка слиянием - это эффективный алгоритм сортировки с временной сложностью O (n log n), что делает его более быстрым, чем многие другие алгоритмы сортировки, особенно при больших размерах входных данных."
   ]
  },
  {
   "cell_type": "markdown",
   "id": "bc74c4f1-54d7-44b2-a91d-5c0da9a9ee45",
   "metadata": {},
   "source": [
    "Временная сложность равна O(n log n). И это определенно лучше, чем временная сложность пузырьковой сортировки O (n ^ 2).  \n",
    "\n",
    "Однако пузырьковая сортировка более эффективна с точки зрения пространственной сложности: O(1) для пузырьковой сортировки и O(N) для сортировки слиянием."
   ]
  },
  {
   "cell_type": "code",
   "execution_count": 4,
   "id": "da7ddb40-8bf0-47fa-a285-be255622b136",
   "metadata": {},
   "outputs": [
    {
     "name": "stdout",
     "output_type": "stream",
     "text": [
      "[1, 2, 5, 5, 6, 9]\n"
     ]
    }
   ],
   "source": [
    "def merge_sort(lst):\n",
    "    # Base case: if the array has 0 or 1 element, it is already sorted\n",
    "    if len(lst) <= 1:\n",
    "        return lst\n",
    "    \n",
    "    # Recursive case: split the array into two halves, sort each half, and merge them\n",
    "    mid = len(lst) // 2\n",
    "    left_half = lst[:mid]\n",
    "    right_half = lst[mid:]\n",
    "    \n",
    "    left_half = merge_sort(left_half)\n",
    "    right_half = merge_sort(right_half)\n",
    "    \n",
    "    return merge(left_half, right_half)\n",
    "    \n",
    "    \n",
    "def merge(left_half, right_half):\n",
    "    result = []\n",
    "    i = 0\n",
    "    j = 0\n",
    "    \n",
    "    # Compare the elements in each array and add the smallest to the merged array\n",
    "    while i < len(left_half) and j < len(right_half):\n",
    "        if left_half[i] <= right_half[j]:\n",
    "            result.append(left_half[i])\n",
    "            i += 1\n",
    "        else:\n",
    "            result.append(right_half[j])\n",
    "            j += 1\n",
    "            \n",
    "    # Add any remaining elements from the left or right array\n",
    "    result += left_half[i:]\n",
    "    result += right_half[j:]\n",
    "    \n",
    "    return result\n",
    "\n",
    "\n",
    "my_list = [5, 2, 9, 1, 5, 6]\n",
    "sorted_list = merge_sort(my_list)\n",
    "print(sorted_list)"
   ]
  },
  {
   "cell_type": "markdown",
   "id": "719c110b-0a59-430d-a64d-1b89beb251f2",
   "metadata": {},
   "source": [
    "### Быстрая сортировка"
   ]
  },
  {
   "cell_type": "markdown",
   "id": "f9255225-f775-40e1-870c-6ac9a7083d39",
   "metadata": {},
   "source": [
    "Быстрая сортировка - это алгоритм сортировки по принципу \"разделяй и властвуй\", который рекурсивно делит список элементов на более мелкие подсписки на основе выбранного сводного элемента."
   ]
  },
  {
   "cell_type": "markdown",
   "id": "ba1c9118-c4d6-4f73-b002-3e0909b7b126",
   "metadata": {},
   "source": [
    "Чтобы выполнить быструю сортировку, вам нужно:\n",
    "1. случайным образом выбрать одно из значений в массиве\n",
    "2. переместить все значения, превышающие его, над ним\n",
    "3. переместить все значения, расположенные под ним, ниже него\n",
    "4. вы продолжаете рекурсивно, выбирая pivot в верхней и нижней частях массива, и сортируете их аналогичным образом, пока не будет отсортирован весь массив. \n",
    "\n",
    "Значение, которое вы выбираете изначально, называется pivot."
   ]
  },
  {
   "cell_type": "markdown",
   "id": "4691c0e9-c0c3-4dcd-aa2a-0c8bfd36b735",
   "metadata": {},
   "source": [
    "Наихудшая временная сложность быстрой сортировки равна O(n ^ 2) - это происходит, когда мы получаем массив, который почти отсортирован (сводная точка всегда является самым большим или самым маленьким элементом в списке).  \n",
    "\n",
    "Однако средняя и наилучшая временная сложность быстрой сортировки равна O(n log n)."
   ]
  },
  {
   "cell_type": "code",
   "execution_count": 5,
   "id": "9985a4e6-55f6-4d79-81b1-ecfb1cc6f789",
   "metadata": {
    "tags": []
   },
   "outputs": [
    {
     "name": "stdout",
     "output_type": "stream",
     "text": [
      "[1, 3, 4, 6, 9, 14, 20, 21, 21, 25]\n"
     ]
    }
   ],
   "source": [
    "def quicksort(lst):\n",
    "    # Base case\n",
    "    if len(lst) <= 1:\n",
    "        return lst\n",
    "    \n",
    "    # Choose pivot element (last element in array)\n",
    "    pivot = lst[-1]\n",
    "\n",
    "    # Initialize two lists to store elements less than or greater than pivot\n",
    "    left, right = [], []\n",
    "\n",
    "    # Iterate over all elements except pivot\n",
    "    for i in range(len(lst) - 1):\n",
    "        # If current element is less than pivot, add to left list\n",
    "        if lst[i] < pivot:\n",
    "            left.append(lst[i])\n",
    "        # Otherwise, add to right list\n",
    "        else:\n",
    "            right.append(lst[i])\n",
    "\n",
    "    # Recursively sort left and right lists, then concatenate sorted lists with pivot in middle\n",
    "    return quicksort(left) + [pivot] + quicksort(right)\n",
    "            \n",
    "        \n",
    "# Usage example\n",
    "test = [21, 4, 1, 3, 9, 20, 25, 6, 21, 14]\n",
    "print(quicksort(test))"
   ]
  }
 ],
 "metadata": {
  "kernelspec": {
   "display_name": "Python 3 (ipykernel)",
   "language": "python",
   "name": "python3"
  },
  "language_info": {
   "codemirror_mode": {
    "name": "ipython",
    "version": 3
   },
   "file_extension": ".py",
   "mimetype": "text/x-python",
   "name": "python",
   "nbconvert_exporter": "python",
   "pygments_lexer": "ipython3",
   "version": "3.7.11"
  }
 },
 "nbformat": 4,
 "nbformat_minor": 5
}
