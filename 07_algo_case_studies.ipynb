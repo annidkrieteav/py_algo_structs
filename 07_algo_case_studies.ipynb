{
 "cells": [
  {
   "cell_type": "markdown",
   "id": "9ec91368-53c8-4317-bf12-e21995bfec83",
   "metadata": {},
   "source": [
    "## 7. Примеры алгоритмов"
   ]
  },
  {
   "cell_type": "markdown",
   "id": "0bf9b8d2-b9fa-41d3-a755-1783fb823734",
   "metadata": {},
   "source": [
    "### Задача о кратчайшем пути"
   ]
  },
  {
   "cell_type": "markdown",
   "id": "bca723d2-9b56-433c-aadf-26977c22c76f",
   "metadata": {},
   "source": [
    "Самый короткий путь - это тот, где сумма ребер как можно меньше."
   ]
  },
  {
   "cell_type": "markdown",
   "id": "fe2d9154-f6e7-472d-8603-6f88ad660913",
   "metadata": {},
   "source": [
    "Если у нас есть невзвешенный граф, то кратчайшим путем будет тот, у которого наименьшее количество ребер."
   ]
  },
  {
   "cell_type": "markdown",
   "id": "0799f98c-9a9d-4728-8976-8ee25112f75f",
   "metadata": {},
   "source": [
    "Решением этой проблемы для невзвешенного графа на самом деле является простой поиск вширь: вы начинаете с одного узла и сначала посещаете ближайшие узлы, постепенно переходя к более удаленным узлам, пока не найдете тот, который искали."
   ]
  },
  {
   "cell_type": "markdown",
   "id": "271c8823-bf53-4909-9fe0-0d0a6e58f0e4",
   "metadata": {},
   "source": [
    "Чтобы решить задачу о кратчайшем пути для графа со взвешенными ребрами, мы можем использовать алгоритм Дейкстры."
   ]
  },
  {
   "cell_type": "markdown",
   "id": "844f93c1-15fb-4fa2-8391-50c37e1a6587",
   "metadata": {},
   "source": [
    "### Алгоритм Дейкстры"
   ]
  },
  {
   "cell_type": "markdown",
   "id": "1d01b46d-ecac-47b3-a3b2-f632d8353b03",
   "metadata": {},
   "source": [
    "Этот алгоритм является жадным алгоритмом, который находит кратчайший путь (расстояние) между начальным узлом и всеми остальными узлами в графе."
   ]
  },
  {
   "cell_type": "markdown",
   "id": "af710140-eea9-411e-be55-ff75cabde695",
   "metadata": {},
   "source": [
    "Жадный означает, что он всегда выбирает наилучший вариант на данный момент, т.е. выбирает следующий узел для посещения, исходя из минимальной стоимости на его границе."
   ]
  },
  {
   "cell_type": "markdown",
   "id": "acc3ca18-4bee-4262-aaf9-cac3079b90e2",
   "metadata": {},
   "source": [
    "Расстояние - это сумма весов ребер на пути между нашей начальной точкой и вершиной, на которой мы находимся.  \n",
    "В конце выполнения алгоритма Дейкстры расстояние будет равно кратчайшему пути."
   ]
  },
  {
   "cell_type": "code",
   "execution_count": 1,
   "id": "ae47645e-a1fc-49c6-a2a7-9dfcdcb2f2ee",
   "metadata": {
    "tags": []
   },
   "outputs": [
    {
     "data": {
      "text/plain": [
       "(4, ['A', 'C', 'B', 'D'])"
      ]
     },
     "execution_count": 1,
     "metadata": {},
     "output_type": "execute_result"
    }
   ],
   "source": [
    "import heapq\n",
    "\n",
    "\n",
    "def dijkstra(graph, start_node, end_node):\n",
    "    # Create a dictionary to store the distance to each node\n",
    "    distances = {node: float('inf') for node in graph}\n",
    "    distances[start_node] = 0\n",
    "\n",
    "    # Create a dictionary to store the previous node in the shortest path\n",
    "    previous_nodes = {node: None for node in graph}\n",
    "\n",
    "    # Create a priority queue to store nodes that we haven't visited yet\n",
    "    priority_queue = [(0, start_node)]\n",
    "\n",
    "    while priority_queue:\n",
    "        # Get the node with the smallest distance\n",
    "        current_distance, current_node = heapq.heappop(priority_queue)\n",
    "\n",
    "        # If we've already visited this node, skip it\n",
    "        if current_distance > distances[current_node]:\n",
    "            continue\n",
    "\n",
    "        # Check all of the neighbors of this node\n",
    "        for neighbor, weight in graph[current_node].items():\n",
    "            distance = current_distance + weight\n",
    "\n",
    "            # If we've found a new shortest path to this neighbor,\n",
    "            # update our records and add it to the queue\n",
    "            if distance < distances[neighbor]:\n",
    "                distances[neighbor] = distance\n",
    "                previous_nodes[neighbor] = current_node\n",
    "                heapq.heappush(priority_queue, (distance, neighbor))\n",
    "\n",
    "        # If we've reached the end node, we can stop searching\n",
    "        if current_node == end_node:\n",
    "            break\n",
    "\n",
    "    # Build the path from the previous nodes dictionary\n",
    "    path = []\n",
    "    node = end_node\n",
    "    while node is not None:\n",
    "        path.append(node)\n",
    "        node = previous_nodes[node]\n",
    "    path.reverse()\n",
    "\n",
    "    return distances[end_node], path\n",
    "\n",
    "\n",
    "# Example usage\n",
    "graph = {\n",
    "    'A': {'B': 5, 'C': 1},\n",
    "    'B': {'A': 5, 'C': 2, 'D': 1},\n",
    "    'C': {'A': 1, 'B': 2, 'D': 4, 'E': 8},\n",
    "    'D': {'B': 1, 'C': 4, 'E': 3, 'F': 6},\n",
    "    'E': {'C': 8, 'D': 3},\n",
    "    'F': {'D': 6}\n",
    "}\n",
    "\n",
    "start_node = 'A'\n",
    "end_node = 'D'\n",
    "\n",
    "dijkstra(graph, start_node, end_node)"
   ]
  },
  {
   "cell_type": "markdown",
   "id": "281bf05d-48f5-4dcb-a842-a5ac5090a9a4",
   "metadata": {},
   "source": [
    "Алгоритм работает, поддерживая приоритетную очередь узлов для посещения, при этом первым посещается узел с наименьшим расстоянием от начального узла. Расстояния до каждого узла обновляются по мере выполнения алгоритма, и для каждого узла также записывается предыдущий узел на кратчайшем пути.\n",
    "\n",
    "Как только достигается конечный узел, алгоритм останавливается и строится кратчайший путь, следуя указателям предыдущих узлов от конечного узла к начальному узлу."
   ]
  },
  {
   "cell_type": "markdown",
   "id": "d94ae0a0-b95c-4688-979a-ab0bce65ed54",
   "metadata": {},
   "source": [
    "Временная сложность алгоритма Дейкстры равна O(V ^ 2), где V - количество вершин в графе.  \n",
    "Это связано с тем, что в худшем случае нам нужно было бы посетить каждую вершину графа один или два раза, и каждый раз, когда мы посещаем вершину, нам нужно выполнить поиск в очереди приоритетов, чтобы найти минимальный элемент.  \n",
    "Но если реализация приоритетной очереди очень эффективна, то временная сложность алгоритма Дейкстры равна O(E + V log V).\n"
   ]
  },
  {
   "cell_type": "markdown",
   "id": "6b5ae682-71ee-4173-bfbd-ea34565b31e7",
   "metadata": {},
   "source": [
    "### Проблема с рюкзаком"
   ]
  },
  {
   "cell_type": "markdown",
   "id": "ffa17850-a334-40c5-bf5a-a8d068892e8d",
   "metadata": {},
   "source": [
    "Задача о рюкзаке - классическая задача оптимизации в информатике. Задача включает в себя рюкзак (или ранцевую сумку-переноску) с ограниченным весом и набором предметов, имеющих свой собственный вес и ценность.  \n",
    "\n",
    "Цель состоит в том, чтобы определить комбинацию предметов, которые можно поместить в рюкзак таким образом, чтобы общая стоимость предметов была максимальной, а также чтобы общий вес предметов не превышал вместимости рюкзака."
   ]
  },
  {
   "cell_type": "markdown",
   "id": "e236a8c1-ec81-4474-8342-7544c12911a1",
   "metadata": {},
   "source": [
    "Решением этой задачи методом перебора будет O(2^ n). И это экспоненциальный промежуток времени:"
   ]
  },
  {
   "cell_type": "code",
   "execution_count": 2,
   "id": "c7fad62f-cb97-409a-beba-55b6abc03f13",
   "metadata": {
    "tags": []
   },
   "outputs": [
    {
     "data": {
      "text/plain": [
       "220"
      ]
     },
     "execution_count": 2,
     "metadata": {},
     "output_type": "execute_result"
    }
   ],
   "source": [
    "# O(2^n) solution\n",
    "def knapSack(W, wt, val, n):\n",
    "    # Base case\n",
    "    if n == 0 or W == 0:\n",
    "        return 0\n",
    "    \n",
    "    # If weight of the nth item is more than Knapsack capacity W,\n",
    "    # then this item cannot be included in the optimal solution\n",
    "    if (wt[n-1] > W):\n",
    "        return knapSack(W, wt, val, n-1)\n",
    "    \n",
    "    # Return the maximum of two cases:\n",
    "    # (1) nth item included\n",
    "    # (2) not included\n",
    "    else:\n",
    "        return max(val[n-1] + knapSack(W-wt[n-1], wt, val, n-1),\n",
    "                   knapSack(W, wt, val, n-1))\n",
    "\n",
    "# Example usage\n",
    "val = [60, 100, 120]\n",
    "wt = [10, 20, 30]\n",
    "W = 50\n",
    "n = len(val)\n",
    "\n",
    "knapSack(W, wt, val, n)"
   ]
  },
  {
   "cell_type": "markdown",
   "id": "cba70d10-6aa8-49db-a53a-8aeacac55a72",
   "metadata": {},
   "source": [
    "### Динамическое программирование"
   ]
  },
  {
   "cell_type": "markdown",
   "id": "597557e8-57ca-4639-b087-cf89e37c0cb4",
   "metadata": {},
   "source": [
    "С помощью **динамического программирования** вы можете значительно ускорить решение действительно сложной задачи, разбив ее на подзадачи."
   ]
  },
  {
   "cell_type": "markdown",
   "id": "b22baa80-0dbb-4bd3-b3a7-f82ffecadb72",
   "metadata": {},
   "source": [
    "Решения для динамического программирования используют преимущества как решения задачи для тривиального случая, так и сохранения решения в справочной таблице, используя их для постепенного усложнения задачи."
   ]
  },
  {
   "cell_type": "markdown",
   "id": "920a7f53-86ca-4ae2-8bb2-ea7aee100747",
   "metadata": {},
   "source": [
    "Еще одной особенностью решения для динамического программирования является уравнение, используемое на каждом шаге по мере усложнения.   \n",
    "Уравнение часто объединяет некоторые значения, ранее вычисленные в справочной таблице, иногда друг с другом, а иногда и с новым значением, которое вы вводите (например, значение любого объекта, на который вы смотрите)."
   ]
  },
  {
   "cell_type": "markdown",
   "id": "dfcf1284-1c97-40e5-834f-aaf3808ab50c",
   "metadata": {},
   "source": [
    "Мы используем значения, уже сохраненные в таблице при добавлении нового объекта - метод, называемый \"запоминание\". Таким образом, нам определенно не нужно каждый раз пересчитывать их заново - вы вводите в компьютер и сохраняете решения для небольших задач, а затем вам не нужно вычислять их снова для более сложных задач."
   ]
  },
  {
   "cell_type": "markdown",
   "id": "db6cbaa1-c100-4129-91dd-d3fde35eeeb5",
   "metadata": {},
   "source": [
    "Если вы хотите использовать подход динамического программирования, сначала спросите себя: могу ли я разбить эту проблему на подзадачи?  \n",
    "Если ответ ПОЛОЖИТЕЛЬНЫЙ, то у вас проблема с решением, основанным на динамическом программировании."
   ]
  },
  {
   "cell_type": "markdown",
   "id": "14859dac-20b3-4a45-b83f-7971cd57bd26",
   "metadata": {},
   "source": [
    "Для задачи с рюкзаком:\n",
    "- задача: найти максимальное значение для ограничения веса \n",
    "- подзадача: найти максимальное значение для некоторого меньшего веса\n",
    "- базовый вариант (подзадача настолько мала, что ответ на нее очень прост или тривиален для вычисления): наименьшее вычисление (вычисление значений для одного объекта)"
   ]
  },
  {
   "cell_type": "code",
   "execution_count": 3,
   "id": "37ac1853-8adc-4907-b6ff-7eb1d153118d",
   "metadata": {
    "tags": []
   },
   "outputs": [
    {
     "data": {
      "text/plain": [
       "220"
      ]
     },
     "execution_count": 3,
     "metadata": {},
     "output_type": "execute_result"
    }
   ],
   "source": [
    "# O(nW) solution using dynamic programming\n",
    "def knapSack(W, wt, val, n):\n",
    "    # Initialize a 2D array K with all zeros\n",
    "    K = [[0 for x in range(W + 1)] for x in range(n + 1)]\n",
    "    \n",
    "    # Build table K[][] in bottom up manner\n",
    "    for i in range(n + 1):\n",
    "        for w in range(W + 1):\n",
    "            # Base case\n",
    "            if i == 0 or w == 0:\n",
    "                K[i][w] = 0\n",
    "            # If weight of the ith item is less than or equal to w\n",
    "            elif wt[i-1] <= w:\n",
    "                # Take the maximum of two cases:\n",
    "                # (1) ith item included\n",
    "                # (2) not included\n",
    "                K[i][w] = max(val[i-1] + K[i-1][w-wt[i-1]], K[i-1][w])\n",
    "            else:\n",
    "                # If weight of the ith item is more than w,\n",
    "                # then this item cannot be included in the optimal solution\n",
    "                K[i][w] = K[i-1][w]\n",
    "    \n",
    "    # Return the maximum value that can be put in a knapsack of capacity W\n",
    "    return K[n][W]\n",
    "\n",
    "\n",
    "# Example usage\n",
    "val = [60, 100, 120]\n",
    "wt = [10, 20, 30]\n",
    "W = 50\n",
    "n = len(val)\n",
    "\n",
    "knapSack(W, wt, val, n)"
   ]
  },
  {
   "cell_type": "markdown",
   "id": "51ede707-7f46-4bfe-a027-a7b67211e560",
   "metadata": {},
   "source": [
    "### Проблема коммивояжера"
   ]
  },
  {
   "cell_type": "markdown",
   "id": "86e41f19-b911-42fd-879d-9d4374c8eed0",
   "metadata": {},
   "source": [
    "Задача коммивояжера (TSP) - классическая задача в информатике и математике. В этой задаче у нас есть граф, все вершины которого представляют города, а все ребра - дороги между ними. Цель TSP - найти кратчайший возможный маршрут, который посещает каждый город ровно один раз и возвращается в исходный город."
   ]
  },
  {
   "cell_type": "markdown",
   "id": "e34a6908-ff2c-4d35-9ef3-957434e93239",
   "metadata": {},
   "source": [
    "TSP - это задача оптимизации, которая означает, что мы ищем наилучшее решение из всех возможных.   \n",
    "TSP является хорошо известным примером NP-сложной задачи, что означает, что вычислительно сложно найти оптимальное решение для больших экземпляров задачи (NP - недетерминированное полиномиальное время)."
   ]
  },
  {
   "cell_type": "markdown",
   "id": "01a97cd0-ea2d-448b-b0da-0479d540bcb4",
   "metadata": {},
   "source": [
    "TSP имеет множество практических применений, например, в логистике и на транспорте, где он используется для оптимизации маршрутов доставки. Он также используется в разработке микрочипов, секвенировании ДНК и многих других областях."
   ]
  },
  {
   "cell_type": "code",
   "execution_count": 4,
   "id": "db39bea5-ccbd-4691-8bdd-a477afe007f8",
   "metadata": {
    "tags": []
   },
   "outputs": [
    {
     "name": "stdout",
     "output_type": "stream",
     "text": [
      "('C', 'A', 'B', 'D') 50\n"
     ]
    }
   ],
   "source": [
    "# O(n!) solution\n",
    "import itertools\n",
    "\n",
    "def tsp_brute_force(graph):\n",
    "    # Generate all possible paths\n",
    "    nodes = list(graph.keys())\n",
    "    paths = itertools.permutations(nodes)\n",
    "    \n",
    "    # Find the shortest path\n",
    "    shortest_path = None\n",
    "    shortest_distance = float('inf')\n",
    "    for path in paths:\n",
    "        distance = 0\n",
    "        for i in range(len(path)-1):\n",
    "            for neighbor, d in graph[path[i]]:\n",
    "                if neighbor == path[i+1]:\n",
    "                    distance += d\n",
    "        if distance < shortest_distance:\n",
    "            shortest_path = path\n",
    "            shortest_distance = distance\n",
    "    \n",
    "    return shortest_path, shortest_distance\n",
    "\n",
    "# Example usage\n",
    "graph = {\n",
    "    'A': [('B', 10), ('C', 15), ('D', 20)],\n",
    "    'B': [('A', 10), ('C', 35), ('D', 25)],\n",
    "    'C': [('A', 15), ('B', 35), ('D', 30)],\n",
    "    'D': [('A', 20), ('B', 25), ('C', 30)]\n",
    "}\n",
    "path, distance = tsp_brute_force(graph)\n",
    "print(path, distance)"
   ]
  },
  {
   "cell_type": "markdown",
   "id": "e2fefaed-385b-4992-a201-333c2fced49f",
   "metadata": {},
   "source": [
    "Использование перестановок может быть очень медленным процессом, особенно для больших графов. На самом деле, временная сложность метода грубой силы с использованием перестановок составляет O (n!), что быстро становится невозможным даже для графов среднего размера."
   ]
  },
  {
   "cell_type": "code",
   "execution_count": 5,
   "id": "1dda936f-3d05-4551-a6fa-78fd42248f2a",
   "metadata": {
    "tags": []
   },
   "outputs": [
    {
     "name": "stdout",
     "output_type": "stream",
     "text": [
      "['A', 'B', 'D', 'C'] 65\n"
     ]
    }
   ],
   "source": [
    "def tsp_nn(graph, start):\n",
    "    # Find the shortest path using the nearest neighbor algorithm\n",
    "    path = [start]\n",
    "    visited = {start}\n",
    "    while len(path) < len(graph):\n",
    "        current = path[-1]\n",
    "        next_node = None\n",
    "        min_distance = float('inf')\n",
    "        for neighbor, distance in graph[current]:\n",
    "            if neighbor not in visited and distance < min_distance:\n",
    "                next_node = neighbor\n",
    "                min_distance = distance\n",
    "        if next_node is None:\n",
    "            break\n",
    "        path.append(next_node)\n",
    "        visited.add(next_node)\n",
    "    \n",
    "    # Calculate the distance of the path\n",
    "    distance = 0\n",
    "    for i in range(len(path)-1):\n",
    "        for neighbor, d in graph[path[i]]:\n",
    "            if neighbor == path[i+1]:\n",
    "                distance += d\n",
    "    \n",
    "    return path, distance\n",
    "\n",
    "# Example usage\n",
    "graph = {\n",
    "    'A': [('B', 10), ('C', 15), ('D', 20)],\n",
    "    'B': [('A', 10), ('C', 35), ('D', 25)],\n",
    "    'C': [('A', 15), ('B', 35), ('D', 30)],\n",
    "    'D': [('A', 20), ('B', 25), ('C', 30)]\n",
    "}\n",
    "start = 'A'\n",
    "path, distance = tsp_nn(graph, start)\n",
    "print(path, distance)"
   ]
  },
  {
   "cell_type": "markdown",
   "id": "f55332b1-ee70-4ca1-8686-1d875c1b6e5c",
   "metadata": {},
   "source": [
    "Приведенный выше фрагмент кода представляет собой реализацию алгоритма ближайшего соседа, который представляет собой эвристический подход к решению задачи коммивояжера. Хотя он не всегда может дать оптимальное решение, он намного быстрее, чем метод грубой силы, и часто может дать хорошее приближение к оптимальному решению.\n",
    "\n",
    "Временная сложность алгоритма поиска ближайшего соседа равна O (n ^ 2), что намного быстрее, чем при использовании метода грубой силы."
   ]
  },
  {
   "cell_type": "markdown",
   "id": "8b1003aa-dff8-40f9-8f29-c5b8aaccb0ad",
   "metadata": {},
   "source": [
    "Однако алгоритм грубой силы нашел оптимальное решение, которое является (‘C’, ‘A’, ‘B’, ‘D’) с расстоянием 50. Алгоритм ближайшего соседа нашел неоптимальное решение, которое равно [‘A’, ‘B’, ‘D’, ‘C’] с расстоянием 65. Алгоритм ближайшего соседа не гарантирует нахождения оптимального решения, но обычно он намного быстрее алгоритма грубой силы и может быть использован в качестве хорошего приближения при больших значениях n."
   ]
  }
 ],
 "metadata": {
  "kernelspec": {
   "display_name": "Python 3 (ipykernel)",
   "language": "python",
   "name": "python3"
  },
  "language_info": {
   "codemirror_mode": {
    "name": "ipython",
    "version": 3
   },
   "file_extension": ".py",
   "mimetype": "text/x-python",
   "name": "python",
   "nbconvert_exporter": "python",
   "pygments_lexer": "ipython3",
   "version": "3.7.11"
  }
 },
 "nbformat": 4,
 "nbformat_minor": 5
}
